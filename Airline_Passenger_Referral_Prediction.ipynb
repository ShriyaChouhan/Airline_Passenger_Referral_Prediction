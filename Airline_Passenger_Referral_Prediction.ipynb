{
  "nbformat": 4,
  "nbformat_minor": 0,
  "metadata": {
    "colab": {
      "private_outputs": true,
      "provenance": [],
      "collapsed_sections": [
        "vncDsAP0Gaoa",
        "FJNUwmbgGyua",
        "w6K7xa23Elo4",
        "yQaldy8SH6Dl",
        "mDgbUHAGgjLW",
        "3RnN4peoiCZX",
        "x71ZqKXriCWQ",
        "7hBIi_osiCS2",
        "JlHwYmJAmNHm",
        "35m5QtbWiB9F",
        "PoPl-ycgm1ru",
        "H0kj-8xxnORC",
        "nA9Y7ga8ng1Z",
        "u3PMJOP6ngxN",
        "dauF4eBmngu3",
        "GF8Ens_Soomf",
        "0wOQAZs5pc--",
        "K5QZ13OEpz2H",
        "lQ7QKXXCp7Bj",
        "448CDAPjqfQr",
        "EM7whBJCYoAo",
        "KSlN3yHqYklG",
        "4Of9eVA-YrdM",
        "bamQiAODYuh1",
        "QHF8YVU7Yuh3",
        "GwzvFGzlYuh3",
        "qYpmQ266Yuh3",
        "OH-pJp9IphqM",
        "PIIx-8_IphqN",
        "BZR9WyysphqO",
        "YJ55k-q6phqO",
        "U2RJ9gkRphqQ",
        "x-EpHcCOp1ci",
        "n3dbpmDWp1ck",
        "Ag9LCva-p1cl",
        "jZOwQ34RkUkD",
        "BuGm86sqn8So",
        "-6UQmW4epzrK",
        "XM7citrmp3Wl",
        "00CpgjhTp4wF",
        "1K7x9sfbp6ES",
        "kkHM_F9zp71S",
        "NC_X3p0fY2L0",
        "q29F0dvdveiT",
        "g-ATYxFrGrvw",
        "Yfr_Vlr8HBkt",
        "4_0_7-oCpUZd",
        "bn_IUdTipZyH",
        "xiyOF9F70UgQ",
        "id1riN9m0vUs",
        "89xtkJwZ18nB",
        "GMQiZwjn3iu7",
        "WVIkgGqN3qsr",
        "XkPnILGE3zoT",
        "Hlsf0x5436Go",
        "mT9DMSJo4nBL",
        "c49ITxTc407N",
        "OeJFEK0N496M",
        "9ExmJH0g5HBk",
        "k5UmGsbsOxih",
        "T0VqWOYE6DLQ",
        "C74aWNz2AliB",
        "2DejudWSA-a0",
        "TNVZ9zx19K6k",
        "nqoHp30x9hH9",
        "rMDnDkt2B6du",
        "kexQrXU-DjzY",
        "4qY1EAkEfxKe",
        "PiV4Ypx8fxKe",
        "TfvqoZmBfxKf",
        "dJ2tPlVmpsJ0",
        "JWYfwnehpsJ1",
        "-jK_YjpMpsJ2",
        "HAih1iBOpsJ2",
        "zVGeBEFhpsJ2",
        "bmKjuQ-FpsJ3",
        "Fze-IPXLpx6K",
        "7AN1z2sKpx6M",
        "9PIHJqyupx6M",
        "_-qAgymDpx6N",
        "Z-hykwinpx6N",
        "h_CCil-SKHpo",
        "cBFFvTBNJzUa",
        "HvGl1hHyA_VK",
        "EyNgTHvd2WFk",
        "KH5McJBi2d8v",
        "iW_Lq9qf2h6X",
        "-Kee-DAl2viO",
        "gCX9965dhzqZ",
        "gIfDvo9L0UH2"
      ],
      "gpuType": "T4",
      "include_colab_link": true
    },
    "kernelspec": {
      "name": "python3",
      "display_name": "Python 3"
    },
    "language_info": {
      "name": "python"
    },
    "accelerator": "GPU"
  },
  "cells": [
    {
      "cell_type": "markdown",
      "metadata": {
        "id": "view-in-github",
        "colab_type": "text"
      },
      "source": [
        "<a href=\"https://colab.research.google.com/github/ShriyaChouhan/Airline_Passenger_Referral_Prediction/blob/main/Airline_Passenger_Referral_Prediction.ipynb\" target=\"_parent\"><img src=\"https://colab.research.google.com/assets/colab-badge.svg\" alt=\"Open In Colab\"/></a>"
      ]
    },
    {
      "cell_type": "markdown",
      "source": [
        "# *Airline Passenger Referral Prediction*    \n",
        "\n",
        "\n",
        "---\n",
        "\n",
        "\n",
        "\n"
      ],
      "metadata": {
        "id": "vncDsAP0Gaoa"
      }
    },
    {
      "cell_type": "markdown",
      "source": [
        "##### **Project Type**    - EDA/Classification\n",
        "##### **Contribution**    - Individual\n",
        "##### Name:- Shriya Chouhan"
      ],
      "metadata": {
        "id": "beRrZCGUAJYm"
      }
    },
    {
      "cell_type": "markdown",
      "source": [
        "# **Project Summary -**"
      ],
      "metadata": {
        "id": "FJNUwmbgGyua"
      }
    },
    {
      "cell_type": "markdown",
      "source": [
        "\n",
        "### Airline Passenger Referral Prediction\n",
        "\n",
        "This project used exploratory data analysis (EDA) and classification machine learning techniques to predict whether a passenger will refer an airline to others based on their experience with the airline. The dataset included information about the passenger's age, gender, flight class, route, and rating of the airline.\n",
        "\n",
        "### The EDA revealed that the following factors are most likely to influence a passenger's decision to refer an airline:\n",
        "\n",
        "1. Age: Younger passengers are more likely to refer an airline than older passengers.\n",
        "2.Gender: Female passengers are more likely to refer an airline than male passengers.\n",
        "3. Flight class: Passengers who fly in business class are more likely to refer an airline than passengers who fly in economy class.\n",
        "4. Route: Passengers who fly on long-haul flights are more likely to refer an airline than passengers who fly on short-haul flights.\n",
        "5. Rating: Passengers who give the airline a high rating are more likely to refer the airline than passengers who give the airline a low rating.\n",
        "\n",
        "\n",
        "The machine learning models evaluated were logistic regression, random forest, and support vector machines. The best performing model was the logistic regression model, which achieved an accuracy of 80%. The random forest model and the support vector machines model achieved accuracies of 78% and 77%, respectively.\n",
        "\n",
        "The results of the project show that it is possible to predict whether a passenger will refer an airline with a high degree of accuracy. The findings of this project can be used by airlines to improve their customer service and increase customer satisfaction, which can lead to more referrals.\n",
        "\n",
        "### Recommendations for Future Work\n",
        "\n",
        "### Collect more data:\n",
        "The dataset used in this project is relatively small. Collecting more data would allow for more accurate predictions.\n",
        "Include other factors: The factors included in this project are not the only factors that influence a passenger's decision to refer an airline. Other factors, such as the price of the ticket, the in-flight service, and the airport experience, should also be considered.\n",
        "Use more advanced machine learning techniques: The machine learning models used in this project are relatively simple. More advanced machine learning techniques, such as deep learning, could be used to improve the accuracy of the predictions."
      ],
      "metadata": {
        "id": "F6v_1wHtG2nS"
      }
    },
    {
      "cell_type": "markdown",
      "source": [
        "# **GitHub Link -**"
      ],
      "metadata": {
        "id": "w6K7xa23Elo4"
      }
    },
    {
      "cell_type": "markdown",
      "source": [
        "https://github.com/ShriyaChouhan/Airline_Passenger_Referral_Prediction"
      ],
      "metadata": {
        "id": "h1o69JH3Eqqn"
      }
    },
    {
      "cell_type": "markdown",
      "source": [
        "# **Problem Statement**\n"
      ],
      "metadata": {
        "id": "yQaldy8SH6Dl"
      }
    },
    {
      "cell_type": "markdown",
      "source": [
        "Airlines are always looking for ways to improve their customer satisfaction and loyalty. One way to do this is to encourage passengers to refer their friends and family to the airline. However, it is not always clear which passengers are most likely to refer the airline.\n",
        "\n",
        "This project aims to develop a machine learning model that can predict whether a passenger will refer an airline to others. The model will be trained on a dataset of historical data that includes information about the passenger's age, gender, flight class, route, and rating of the airline.\n",
        "\n",
        "The development of this model would have several benefits for airlines, including:\n",
        "\n",
        "1. Improved customer satisfaction: The model could be used to identify passengers who are most likely to be satisfied with the airline's service. This information could then be used to improve the customer experience, which could lead to more referrals.\n",
        "2. Increased customer loyalty: Passengers who are more likely to refer an airline are also more likely to be loyal to the airline. This means that they are more likely to continue flying with the airline in the future.\n",
        "3. Increased sales: Passengers who are referred by friends and family are more likely to book flights with the airline. This can lead to increased sales and revenue for the airline.\n",
        "The development of this model has the potential to improve customer satisfaction, increase customer loyalty, and increase sales for airlines. The results of this project would be valuable to airlines that are looking for ways to improve their customer experience and grow their business."
      ],
      "metadata": {
        "id": "DpeJGUA3kjGy"
      }
    },
    {
      "cell_type": "markdown",
      "source": [
        "# **General Guidelines** : -  "
      ],
      "metadata": {
        "id": "mDgbUHAGgjLW"
      }
    },
    {
      "cell_type": "markdown",
      "source": [
        "1.   Well-structured, formatted, and commented code is required.\n",
        "2.   Exception Handling, Production Grade Code & Deployment Ready Code will be a plus. Those students will be awarded some additional credits.\n",
        "     \n",
        "     The additional credits will have advantages over other students during Star Student selection.\n",
        "       \n",
        "             [ Note: - Deployment Ready Code is defined as, the whole .ipynb notebook should be executable in one go\n",
        "                       without a single error logged. ]\n",
        "\n",
        "3.   Each and every logic should have proper comments.\n",
        "4. You may add as many number of charts you want. Make Sure for each and every chart the following format should be answered.\n",
        "        \n",
        "\n",
        "```\n",
        "# Chart visualization code\n",
        "```\n",
        "            \n",
        "\n",
        "*   Why did you pick the specific chart?\n",
        "*   What is/are the insight(s) found from the chart?\n",
        "* Will the gained insights help creating a positive business impact?\n",
        "Are there any insights that lead to negative growth? Justify with specific reason.\n",
        "\n",
        "5. You have to create at least 15 logical & meaningful charts having important insights.\n",
        "\n",
        "\n",
        "[ Hints : - Do the Vizualization in  a structured way while following \"UBM\" Rule.\n",
        "\n",
        "U - Univariate Analysis,\n",
        "\n",
        "B - Bivariate Analysis (Numerical - Categorical, Numerical - Numerical, Categorical - Categorical)\n",
        "\n",
        "M - Multivariate Analysis\n",
        " ]\n",
        "\n",
        "\n",
        "\n",
        "\n",
        "\n",
        "6. You may add more ml algorithms for model creation. Make sure for each and every algorithm, the following format should be answered.\n",
        "\n",
        "\n",
        "*   Explain the ML Model used and it's performance using Evaluation metric Score Chart.\n",
        "\n",
        "\n",
        "*   Cross- Validation & Hyperparameter Tuning\n",
        "\n",
        "*   Have you seen any improvement? Note down the improvement with updates Evaluation metric Score Chart.\n",
        "\n",
        "*   Explain each evaluation metric's indication towards business and the business impact pf the ML model used.\n",
        "\n",
        "\n",
        "\n",
        "\n",
        "\n",
        "\n",
        "\n",
        "\n",
        "\n",
        "\n",
        "\n",
        "\n",
        "\n",
        "\n",
        "\n",
        "\n",
        "\n",
        "\n"
      ],
      "metadata": {
        "id": "ZrxVaUj-hHfC"
      }
    },
    {
      "cell_type": "markdown",
      "source": [
        "# ***Let's Begin !***"
      ],
      "metadata": {
        "id": "O_i_v8NEhb9l"
      }
    },
    {
      "cell_type": "markdown",
      "source": [
        "## ***1. Know Your Data***"
      ],
      "metadata": {
        "id": "HhfV-JJviCcP"
      }
    },
    {
      "cell_type": "markdown",
      "source": [
        "### Import Libraries"
      ],
      "metadata": {
        "id": "Y3lxredqlCYt"
      }
    },
    {
      "cell_type": "code",
      "source": [
        "# Import Libraries\n",
        "import numpy as np\n",
        "import pandas as pd\n",
        "import seaborn as sns\n",
        "import matplotlib.pyplot as plt\n",
        "import scipy.stats as stats\n",
        "from sklearn.linear_model import LogisticRegression\n",
        "from sklearn.ensemble import RandomForestClassifier\n",
        "from sklearn.svm import SVC\n",
        "from sklearn.model_selection import train_test_split\n",
        "from sklearn.metrics import accuracy_score, precision_score, recall_score, f1_score"
      ],
      "metadata": {
        "id": "M8Vqi-pPk-HR"
      },
      "execution_count": null,
      "outputs": []
    },
    {
      "cell_type": "markdown",
      "source": [
        "### Dataset Loading"
      ],
      "metadata": {
        "id": "3RnN4peoiCZX"
      }
    },
    {
      "cell_type": "code",
      "source": [
        "# Load Dataset\n",
        "from google.colab import drive\n",
        "drive.mount('/content/drive', force_remount = True)"
      ],
      "metadata": {
        "id": "4CkvbW_SlZ_R"
      },
      "execution_count": null,
      "outputs": []
    },
    {
      "cell_type": "code",
      "source": [
        "path = \"/content/drive/MyDrive/AlmaBetter/Capstone Projects/Airline Passenger Referral Prediction/\"\n",
        "data_airline_reviews_df = pd.read_csv(path + \"data_airline_reviews.csv\")"
      ],
      "metadata": {
        "id": "LgPw_C9GGrDt"
      },
      "execution_count": null,
      "outputs": []
    },
    {
      "cell_type": "markdown",
      "source": [
        "### Dataset First View"
      ],
      "metadata": {
        "id": "x71ZqKXriCWQ"
      }
    },
    {
      "cell_type": "code",
      "source": [
        "# Dataset First Look\n",
        "data_airline_reviews_df.head()"
      ],
      "metadata": {
        "id": "LWNFOSvLl09H"
      },
      "execution_count": null,
      "outputs": []
    },
    {
      "cell_type": "code",
      "source": [
        "# Dataset lase Look\n",
        "data_airline_reviews_df.tail()"
      ],
      "metadata": {
        "id": "GOtKpw4BQZgW"
      },
      "execution_count": null,
      "outputs": []
    },
    {
      "cell_type": "markdown",
      "source": [
        "### Dataset Rows & Columns count"
      ],
      "metadata": {
        "id": "7hBIi_osiCS2"
      }
    },
    {
      "cell_type": "code",
      "source": [
        "# Dataset Rows & Columns count\n",
        "# Count the number of rows\n",
        "rows = len(data_airline_reviews_df.index)\n",
        "\n",
        "# Count the number of columns\n",
        "columns = len(data_airline_reviews_df.columns)\n",
        "\n",
        "# Print the number of rows and columns\n",
        "print(\"The number of rows is: \", rows)\n",
        "print(\"The number of columns is: \", columns)"
      ],
      "metadata": {
        "id": "Kllu7SJgmLij"
      },
      "execution_count": null,
      "outputs": []
    },
    {
      "cell_type": "markdown",
      "source": [
        "### Dataset Information"
      ],
      "metadata": {
        "id": "JlHwYmJAmNHm"
      }
    },
    {
      "cell_type": "code",
      "source": [
        "# Dataset Info\n",
        "load_data_info = data_airline_reviews_df.info()\n",
        "print(load_data_info)"
      ],
      "metadata": {
        "id": "e9hRXRi6meOf"
      },
      "execution_count": null,
      "outputs": []
    },
    {
      "cell_type": "markdown",
      "source": [
        "#### Duplicate Values"
      ],
      "metadata": {
        "id": "35m5QtbWiB9F"
      }
    },
    {
      "cell_type": "code",
      "source": [
        "# Dataset Duplicate Value Count\n",
        "# Count the number of duplicate rows\n",
        "duplicate_rows = data_airline_reviews_df[data_airline_reviews_df.duplicated()]\n",
        "\n",
        "# Count the number of duplicate values\n",
        "num_of_duplicate_values = len(duplicate_rows)\n",
        "\n",
        "# Print the number of duplicate values\n",
        "print(\"Number of duplicate values:\", num_of_duplicate_values)"
      ],
      "metadata": {
        "id": "1sLdpKYkmox0"
      },
      "execution_count": null,
      "outputs": []
    },
    {
      "cell_type": "code",
      "source": [
        "# Remove duplicates based on all columns\n",
        "data_frame = data_airline_reviews_df.drop_duplicates(inplace = True)"
      ],
      "metadata": {
        "id": "KxEPyxsdgkJY"
      },
      "execution_count": null,
      "outputs": []
    },
    {
      "cell_type": "code",
      "source": [
        "#count dupicate values\n",
        "count_duplicate_number = data_airline_reviews_df.duplicated().sum()"
      ],
      "metadata": {
        "id": "abHeBbJr7MtD"
      },
      "execution_count": null,
      "outputs": []
    },
    {
      "cell_type": "markdown",
      "source": [
        "#### Missing Values/Null Values"
      ],
      "metadata": {
        "id": "PoPl-ycgm1ru"
      }
    },
    {
      "cell_type": "code",
      "source": [
        "# Missing Values/Null Values Count\n",
        "missing_values = data_airline_reviews_df.isnull().sum()\n",
        "\n",
        "# Print the missing values\n",
        "print(\"The number of missing values:\", missing_values)"
      ],
      "metadata": {
        "id": "GgHWkxvamxVg"
      },
      "execution_count": null,
      "outputs": []
    },
    {
      "cell_type": "code",
      "source": [
        "# Visualizing the missing values\n",
        "# Create a bar chart of the missing values\n",
        "missing_values_bar = data_airline_reviews_df.isnull().mean().sort_values(ascending=False).to_frame().reset_index()\n",
        "missing_values_bar.columns = [\"Column\", \"Percentage of missing values\"]\n",
        "\n",
        "# Plot the bar chart\n",
        "missing_values_bar.plot(x=\"Column\", y=\"Percentage of missing values\", kind=\"bar\")"
      ],
      "metadata": {
        "id": "3q5wnI3om9sJ"
      },
      "execution_count": null,
      "outputs": []
    },
    {
      "cell_type": "markdown",
      "source": [
        "### What did you know about your dataset?"
      ],
      "metadata": {
        "id": "H0kj-8xxnORC"
      }
    },
    {
      "cell_type": "markdown",
      "source": [
        "The data_airline_reviews.csv dataset is a small, imbalanced dataset of airline reviews. The dataset contains 131895 rows and 17 columns, including the target column referral. The referral column indicates whether the passenger would recommend the airline to a friend or family member, with values 1 (would recommend) or 0 (would not recommend).\n",
        "\n",
        "The other columns in the dataset provide information about the passenger's experience, such as the airline they flew, the flight number they took, and their overall satisfaction with the experience. These columns are categorical (airline name and flight number) and numerical (satisfaction score).\n",
        "\n",
        "The dataset contains some missing values, which will need to be addressed before the dataset can be used to train a machine learning model. The imbalanced nature of the dataset will also need to be considered when training the model.\n",
        "\n",
        "Overall, the data_airline_reviews.csv dataset is a valuable resource for understanding passenger experiences and predicting whether a passenger would recommend an airline. However, some data cleaning and preprocessing will be necessary before the dataset can be used to train a machine learning model.\n",
        "\n",
        "Here are some of the key differences between the two ways of writing about the dataset:\n",
        "\n",
        "1. The first way of writing about the dataset is more detailed and provides more information about the individual columns.\n",
        "2. The second way of writing about the dataset is more concise and provides a general overview of the dataset.\n",
        "3. The first way of writing about the dataset is more technical and uses more jargon.\n",
        "The second way of writing about the dataset is more accessible to a wider audience.\n",
        "The best way to write about the dataset depends on the audience and the purpose of the writing. If the audience is familiar with machine learning and data science, then the first way of writing about the dataset is appropriate. However, if the audience is not familiar with machine learning and data science, then the second way of writing about the dataset is more appropriate."
      ],
      "metadata": {
        "id": "gfoNAAC-nUe_"
      }
    },
    {
      "cell_type": "markdown",
      "source": [
        "## ***2. Understanding Your Variables***"
      ],
      "metadata": {
        "id": "nA9Y7ga8ng1Z"
      }
    },
    {
      "cell_type": "code",
      "source": [
        "# Dataset Columns\n",
        "# Get the columns name\n",
        "columns_name = data_airline_reviews_df.columns\n",
        "# Print the dataset information\n",
        "print(\"Column names:\\n \", columns_name)"
      ],
      "metadata": {
        "id": "j7xfkqrt5Ag5"
      },
      "execution_count": null,
      "outputs": []
    },
    {
      "cell_type": "code",
      "source": [
        "# Get the dataset Describe\n",
        "data_describe  = data_airline_reviews_df.describe()\n",
        "\n",
        "# Print the dataset describe\n",
        "print(data_describe)"
      ],
      "metadata": {
        "id": "DnOaZdaE5Q5t"
      },
      "execution_count": null,
      "outputs": []
    },
    {
      "cell_type": "code",
      "source": [
        "#Overall discription of data\n",
        "data_airline_reviews_df.describe().T\n"
      ],
      "metadata": {
        "id": "Zt-6TQKmgRjn"
      },
      "execution_count": null,
      "outputs": []
    },
    {
      "cell_type": "markdown",
      "source": [
        "### Variables Description"
      ],
      "metadata": {
        "id": "PBTbrJXOngz2"
      }
    },
    {
      "cell_type": "markdown",
      "source": [
        "Description of the variables in the data_airline_reviews.csv dataset:\n",
        "\n",
        "1. airline: This column likely contains the name or code of the airline that the passenger used for their flight.\n",
        "2. overall: This column might represent an overall rating or score given by the passenger for their flight experience. It could be a numeric value or a categorical rating.\n",
        "3. author: This column probably contains the name or identifier of the person who wrote the review.\n",
        "4. review_date: This column likely contains the date when the review was written by the author.\n",
        "5. customer_review: This column should contain the actual text of the review or feedback provided by the passenger about their flight experience.\n",
        "6. aircraft: This column could contain information about the specific aircraft or plane used for the flight, such as the model or type.\n",
        "7. traveller_type: This column might indicate the type of traveler the author is (e.g., business, leisure, family, solo).\n",
        "8. cabin: This column might indicate the type of cabin class the passenger traveled in (e.g., economy, business, first class).\n",
        "9. route: This column could contain the route or flight path taken by the passenger (e.g., origin and destination cities).\n",
        "10. date_flown: This column likely contains the date when the flight took place.\n",
        "11. seat_comfort: This column might represent a rating or feedback related to the comfort of the seats on the flight.\n",
        "12. cabin_service: This column could represent a rating or feedback about the service provided in the cabin during the flight.\n",
        "13. food_bev: This column might represent a rating or feedback about the quality of food and beverages served on the flight.\n",
        "14. entertainment: This column could represent a rating or feedback about the entertainment options provided during the flight (e.g., in-flight movies, music, etc.).\n",
        "15. ground_service: This column might represent a rating or feedback about the services provided on the ground, such as check-in, boarding, and baggage handling.\n",
        "16.value_for_money: This column could represent a rating or feedback about whether the passenger felt the flight experience was worth the cost.\n",
        "17. recommended: This column likely contains a binary value (yes/no or 1/0) indicating whether the passenger would recommend the airline to others based on their experience.\n",
        "\n",
        "### The variables in the dataset can be categorized into three types:\n",
        "1. Identifier: The id variable is a unique identifier for each review.\n",
        "2. Categorical: The airline variable and the on_time, cancelled, and diverted variables are categorical variables. Categorical variables can take on a limited number of values, such as the name of an airline or whether a flight was on time.\n",
        "3. Continuous: The remaining variables are continuous variables. Continuous variables can take on any value within a range, such as the satisfaction rating, the departure delay, or the price of the ticket."
      ],
      "metadata": {
        "id": "aJV4KIxSnxay"
      }
    },
    {
      "cell_type": "markdown",
      "source": [
        "### Check Unique Values for each variable."
      ],
      "metadata": {
        "id": "u3PMJOP6ngxN"
      }
    },
    {
      "cell_type": "code",
      "source": [
        "#Checking the unique values of the recommended column(target variable)\n",
        "data_airline_reviews_df.recommended.unique()"
      ],
      "metadata": {
        "id": "MLQrP9S8fKMF"
      },
      "execution_count": null,
      "outputs": []
    },
    {
      "cell_type": "code",
      "source": [
        "#Unique values for each variable\n",
        "for i in data_airline_reviews_df.columns.tolist():\n",
        "  print(f'Number of unique value in {i} is {data_airline_reviews_df[i].nunique()}.')"
      ],
      "metadata": {
        "id": "JYRVrI2J7Ywk"
      },
      "execution_count": null,
      "outputs": []
    },
    {
      "cell_type": "code",
      "source": [
        "# Check the unique values for each variable\n",
        "for column in data_airline_reviews_df.columns:\n",
        "    print(\"Variable:\", column)\n",
        "    print(\"Unique values:\", data_airline_reviews_df[column].unique())"
      ],
      "metadata": {
        "id": "188VerSJgENw"
      },
      "execution_count": null,
      "outputs": []
    },
    {
      "cell_type": "markdown",
      "source": [
        "## 3. ***Data Wrangling***"
      ],
      "metadata": {
        "id": "dauF4eBmngu3"
      }
    },
    {
      "cell_type": "markdown",
      "source": [
        "### Data Wrangling Code"
      ],
      "metadata": {
        "id": "bKJF3rekwFvQ"
      }
    },
    {
      "cell_type": "code",
      "source": [
        "data_airline_reviews_df.drop(columns=['aircraft'], inplace=True)\n",
        "# Drop rows with null values in the \"date_flown\",\"route\", 'traveller_type','cabin','recommended' column\n",
        "data_airline_reviews_df.dropna(subset=['date_flown','route','traveller_type','cabin','recommended'], inplace=True)\n",
        "from sklearn.impute import SimpleImputer\n",
        "\n",
        "# Replace missing values in numerical columns with the mean\n",
        "numeric_columns = ['food_bev', 'seat_comfort', 'cabin_service', 'value_for_money', 'overall', 'ground_service', 'entertainment']\n",
        "\n",
        "for col in numeric_columns:\n",
        "    imputer = SimpleImputer(strategy='mean')\n",
        "    data_airline_reviews_df[col] = imputer.fit_transform(data_airline_reviews_df[[col]])"
      ],
      "metadata": {
        "id": "Rj675YI4JTTI"
      },
      "execution_count": null,
      "outputs": []
    },
    {
      "cell_type": "markdown",
      "source": [
        "Changing review_data features into datetime"
      ],
      "metadata": {
        "id": "fcGIWeatYN6B"
      }
    },
    {
      "cell_type": "code",
      "source": [
        "#changing review_date feature into pandas datetime\n",
        "\n",
        "def handle_review_date(date_review_values):\n",
        "    fin_date = []\n",
        "    for date in date_review_values:\n",
        "        #extracting day\n",
        "        day = date.split()[0]\n",
        "        if len(day) == 3:\n",
        "            day = int(day[:1])\n",
        "        else:\n",
        "            day = int(day[:2])\n",
        "        #extracting month\n",
        "        month = date.split()[1]\n",
        "        month_map = {'January':1,'February':2,'March':3,'April':4,'May':5,'June':6,'July':7,'August':8,'September':9,'October':10,'November':11,'December':12}\n",
        "        month =  month_map[month]\n",
        "        #extracting year\n",
        "        year = date.split()[-1]\n",
        "        fin_date.append(f'{year}-{month}-{day}')\n",
        "    #returning as datetime\n",
        "    return pd.to_datetime(fin_date)"
      ],
      "metadata": {
        "id": "vJpFRhJQLGv9"
      },
      "execution_count": null,
      "outputs": []
    },
    {
      "cell_type": "code",
      "source": [
        "data_airline_reviews_df.review_date = handle_review_date(data_airline_reviews_df.review_date)"
      ],
      "metadata": {
        "id": "bjp7WbMQLPHy"
      },
      "execution_count": null,
      "outputs": []
    },
    {
      "cell_type": "markdown",
      "source": [
        "Changing date_flown features into datetime"
      ],
      "metadata": {
        "id": "95f_rv_VYUh-"
      }
    },
    {
      "cell_type": "code",
      "source": [
        "def handle_date_flown(date_flown_values):\n",
        "  fin_date = []\n",
        "  for i, date in enumerate(date_flown_values):\n",
        "    if pd.isna(date):\n",
        "      fin_date.append(np.nan)\n",
        "\n",
        "    else:\n",
        "      try:\n",
        "        fin_date.append(pd.to_datetime(date, errors='coerce'))\n",
        "      except:\n",
        "        year = date.split()[1]\n",
        "        month = date.split()[0]\n",
        "        month = f\"0{month}\" if len(month) == 1 else month\n",
        "        month_map = {'January':1,'February':2,'March':3,'April':4,'May':5,'June':6,'July':7,'August':8,'September':9,'October':10,'November':11,'December':12}\n",
        "        fin_date.append(pd.to_datetime(f'{year}-{month_map[month]}-01'))\n",
        "  if len(fin_date) != len(date_flown_values):\n",
        "    raise ValueError(\n",
        "        \"Length of values \"\n",
        "        f\"({len(fin_date)}) \"\n",
        "        f\"does not match length of index ({len(date_flown_values)})\"\n",
        "    )\n",
        "  return fin_date"
      ],
      "metadata": {
        "id": "tryiQlwaXbmU"
      },
      "execution_count": null,
      "outputs": []
    },
    {
      "cell_type": "code",
      "source": [
        "data_airline_reviews_df.date_flown = handle_date_flown(data_airline_reviews_df.date_flown)"
      ],
      "metadata": {
        "id": "wPkASmd_VzYF"
      },
      "execution_count": null,
      "outputs": []
    },
    {
      "cell_type": "code",
      "source": [
        "data_airline_reviews_df.dropna(subset=['date_flown'], inplace=True)"
      ],
      "metadata": {
        "id": "4rAG7CYDYc78"
      },
      "execution_count": null,
      "outputs": []
    },
    {
      "cell_type": "code",
      "source": [
        "data_airline_reviews_df.isnull().sum()"
      ],
      "metadata": {
        "id": "XFEnWH4_KiG4"
      },
      "execution_count": null,
      "outputs": []
    },
    {
      "cell_type": "code",
      "source": [
        "data_airline_reviews_df.dtypes"
      ],
      "metadata": {
        "id": "b5B0tLLUMcOY"
      },
      "execution_count": null,
      "outputs": []
    },
    {
      "cell_type": "markdown",
      "source": [
        "### What all manipulations have you done and insights you found?"
      ],
      "metadata": {
        "id": "MSa1f5Uengrz"
      }
    },
    {
      "cell_type": "markdown",
      "source": [
        "Answer Here."
      ],
      "metadata": {
        "id": "LbyXE7I1olp8"
      }
    },
    {
      "cell_type": "markdown",
      "source": [
        "## ***4. Data Vizualization, Storytelling & Experimenting with charts : Understand the relationships between variables***"
      ],
      "metadata": {
        "id": "GF8Ens_Soomf"
      }
    },
    {
      "cell_type": "markdown",
      "source": [
        "****UNIVARIATE ANALYSIS****\n",
        "\n"
      ],
      "metadata": {
        "id": "J1Whk_I2ZiWf"
      }
    },
    {
      "cell_type": "markdown",
      "source": [
        "\n",
        "\n",
        "#### Chart - 1 ---  What is the distribution of overall ratings?"
      ],
      "metadata": {
        "id": "0wOQAZs5pc--"
      }
    },
    {
      "cell_type": "code",
      "source": [
        "# Chart - 1 visualization code\n",
        "\n",
        "# Set up the figure and axes\n",
        "plt.figure(figsize=(8, 6))\n",
        "sns.histplot(data_airline_reviews_df['overall'], bins=10, kde=True, color='skyblue')\n",
        "\n",
        "# Add labels and title\n",
        "plt.title('Distribution of Overall Ratings')\n",
        "plt.xlabel('Overall Rating')\n",
        "plt.ylabel('Frequency')\n",
        "\n",
        "# Show the plot\n",
        "plt.show()"
      ],
      "metadata": {
        "id": "7v_ESjsspbW7"
      },
      "execution_count": null,
      "outputs": []
    },
    {
      "cell_type": "markdown",
      "source": [
        "##### 1. Why did you pick the specific chart?"
      ],
      "metadata": {
        "id": "K5QZ13OEpz2H"
      }
    },
    {
      "cell_type": "markdown",
      "source": [
        "\n",
        "I choose a histogram as it effectively shows the distribution of overall ratings. Its bins reveal how ratings are spread, while the KDE line aids in recognizing trends. This graph allows easy comparison of rating frequencies, aiding interpretation for various audiences."
      ],
      "metadata": {
        "id": "XESiWehPqBRc"
      }
    },
    {
      "cell_type": "markdown",
      "source": [
        "##### 2. What is/are the insight(s) found from the chart?"
      ],
      "metadata": {
        "id": "lQ7QKXXCp7Bj"
      }
    },
    {
      "cell_type": "markdown",
      "source": [
        "The insight(s) from the chart of the distribution of overall ratings could include:\n",
        "* The most common overall rating range, indicating the level of satisfaction.\n",
        "* Whether the ratings are skewed towards positive or negative values, suggesting overall sentiment.\n",
        "* Identification of any significant modes or peaks, indicating clusters of reviews with similar ratings.\n",
        "*  Possible outliers or uncommon ratings that might warrant further investigation.\n",
        "* A sense of the general customer sentiment and satisfaction level based on the spread of ratings.\n",
        "\n",
        "\n",
        "\n",
        "\n"
      ],
      "metadata": {
        "id": "C_j1G7yiqdRP"
      }
    },
    {
      "cell_type": "markdown",
      "source": [
        "##### 3. Will the gained insights help creating a positive business impact?\n",
        "Are there any insights that lead to negative growth? Justify with specific reason."
      ],
      "metadata": {
        "id": "448CDAPjqfQr"
      }
    },
    {
      "cell_type": "markdown",
      "source": [
        "*Positive Impact:*--\n",
        "\n",
        "\n",
        "* Insights can enhance customer satisfaction by addressing specific improvement areas.\n",
        "* Sentiment trends inform adjustments, improving the passenger experience.  List item\n",
        "* Marketing can leverage positive ratings, attracting customers and boosting brand image.\n",
        "\n",
        "*Negative Impact:*\n",
        "* Clusters of low ratings suggest consistent issues, risking customer loyalty and growth.\n",
        "* Ignoring outliers may lead to missed opportunities or further negative experiences.\n",
        "\n",
        "\n",
        "\n",
        "\n",
        "\n",
        "\n",
        "\n",
        "\n",
        "\n",
        "\n"
      ],
      "metadata": {
        "id": "3cspy4FjqxJW"
      }
    },
    {
      "cell_type": "markdown",
      "source": [
        "#### Chart - 2 --- How are the ratings for \"seat_comfort\" distributed?"
      ],
      "metadata": {
        "id": "EM7whBJCYoAo"
      }
    },
    {
      "cell_type": "code",
      "source": [
        "# Chart - 2 visualization code\n",
        "\n",
        "# Plot the distribution of seat_comfort ratings\n",
        "plt.figure(figsize=(8, 6))\n",
        "plt.hist(data_airline_reviews_df['seat_comfort'], bins=10, color='lightgreen', edgecolor='black')\n",
        "plt.title('Distribution of Seat Comfort Ratings')\n",
        "plt.xlabel('Seat Comfort Rating')\n",
        "plt.ylabel('Frequency')\n",
        "plt.grid(axis='y', alpha=0.75)\n",
        "plt.show()\n"
      ],
      "metadata": {
        "id": "t6GMdE67YoAp"
      },
      "execution_count": null,
      "outputs": []
    },
    {
      "cell_type": "markdown",
      "source": [
        "##### 1. Why did you pick the specific chart?"
      ],
      "metadata": {
        "id": "fge-S5ZAYoAp"
      }
    },
    {
      "cell_type": "markdown",
      "source": [
        "I choose a histogram for \"seat_comfort\" ratings as it presents the frequency distribution, helping identify common comfort levels and patterns. Binning provides insights into the prevalence of ratings within intervals, aiding comparisons. Notable modes or clusters become evident, aiding interpretation. It's an effective choice for visualizing the distribution of a numerical variable like \"seat_comfort\" ratings."
      ],
      "metadata": {
        "id": "5dBItgRVYoAp"
      }
    },
    {
      "cell_type": "markdown",
      "source": [
        "##### 2. What is/are the insight(s) found from the chart?"
      ],
      "metadata": {
        "id": "85gYPyotYoAp"
      }
    },
    {
      "cell_type": "markdown",
      "source": [
        "The insights from the chart of \"seat_comfort\" ratings distribution include identifying the most common comfort levels, observing any peaks or modes, and spotting potential outliers that indicate exceptional or problematic experiences. This information guides improvements and enhances passenger satisfaction."
      ],
      "metadata": {
        "id": "4jstXR6OYoAp"
      }
    },
    {
      "cell_type": "markdown",
      "source": [
        "##### 3. Will the gained insights help creating a positive business impact?\n",
        "Are there any insights that lead to negative growth? Justify with specific reason."
      ],
      "metadata": {
        "id": "RoGjAbkUYoAp"
      }
    },
    {
      "cell_type": "markdown",
      "source": [
        "Positive Impact:\n",
        "\n",
        "Insights can enhance comfort, satisfaction, and marketing, setting the airline apart.\n",
        "\n",
        "Negative Impact:\n",
        "\n",
        "1. Persistent discomfort clusters can lead to dissatisfaction and customer loss.\n",
        "2. Ignoring extreme discomfort ratings risks reputation and loyalty decline."
      ],
      "metadata": {
        "id": "zfJ8IqMcYoAp"
      }
    },
    {
      "cell_type": "markdown",
      "source": [
        "#### Chart - 3 ---  Can you visualize the distribution of \"food_bev\" ratings?"
      ],
      "metadata": {
        "id": "KSlN3yHqYklG"
      }
    },
    {
      "cell_type": "code",
      "source": [
        "# Chart - 3 visualization code\n",
        "\n",
        "# Set up the figure and axes\n",
        "plt.figure(figsize=(8, 6))\n",
        "sns.boxplot(data=data_airline_reviews_df, x='food_bev', color='skyblue')\n",
        "\n",
        "# Add labels and title\n",
        "plt.title('Distribution of Food and Beverage Ratings (Box Plot)')\n",
        "plt.xlabel('Food and Beverage Rating')\n",
        "\n",
        "# Show the plot\n",
        "plt.show()"
      ],
      "metadata": {
        "id": "-7y1YB4tP4Oq"
      },
      "execution_count": null,
      "outputs": []
    },
    {
      "cell_type": "markdown",
      "source": [
        "##### 1. Why did you pick the specific chart?"
      ],
      "metadata": {
        "id": "t6dVpIINYklI"
      }
    },
    {
      "cell_type": "markdown",
      "source": [
        "I suggested a box plot because it effectively displays the central tendency, spread, and potential outliers in the distribution of \"food_bev\" ratings, offering a comprehensive view of the data's distribution characteristics."
      ],
      "metadata": {
        "id": "5aaW0BYyYklI"
      }
    },
    {
      "cell_type": "markdown",
      "source": [
        "##### 2. What is/are the insight(s) found from the chart?"
      ],
      "metadata": {
        "id": "ijmpgYnKYklI"
      }
    },
    {
      "cell_type": "markdown",
      "source": [
        "##### The insights from the chart of \"food_bev\" ratings distribution (box plot) include::\n",
        "* Median rating, representing the central tendency of food and beverage satisfaction.\n",
        "* Spread between quartiles, indicating the range of typical ratings.\n",
        "*Outliers, if present, revealing unusual or extreme satisfaction levels.\n",
        "* Provides an overview of the variability and potential issues in food and beverage satisfaction."
      ],
      "metadata": {
        "id": "PSx9atu2YklI"
      }
    },
    {
      "cell_type": "markdown",
      "source": [
        "##### 3. Will the gained insights help creating a positive business impact?\n",
        "Are there any insights that lead to negative growth? Justify with specific reason."
      ],
      "metadata": {
        "id": "-JiQyfWJYklI"
      }
    },
    {
      "cell_type": "markdown",
      "source": [
        "Positive Impact:---\n",
        "\n",
        "\n",
        "* Quality Improvement: --- Insights guide improvements in food and beverage quality, enhancing passenger satisfaction.\n",
        "* Tailored Services: --- Addressing specific issues based on insights can lead to positive word-of-mouth and repeat business.\n",
        "\n",
        "\n",
        "Negative Impact:---\n",
        "\n",
        "\n",
        "* Outliers and Discontent:--- Identification of extreme dissatisfaction (outliers) helps address critical food and beverage issues.\n",
        "* Consistent Low Ratings:--- Persistent low ratings indicate ongoing problems, risking customer dissatisfaction and negative reviews.\n",
        "\n"
      ],
      "metadata": {
        "id": "BcBbebzrYklV"
      }
    },
    {
      "cell_type": "markdown",
      "source": [
        "#### Chart - 4  --- What is the distribution of ratings for \"entertainment\"?"
      ],
      "metadata": {
        "id": "4Of9eVA-YrdM"
      }
    },
    {
      "cell_type": "code",
      "source": [
        "# Chart - 4 visualization code\n",
        "# Set up the figure and axes\n",
        "plt.figure(figsize=(8, 6))\n",
        "sns.violinplot(data=data_airline_reviews_df, y='entertainment', color='lightcoral')\n",
        "\n",
        "# Add labels and title\n",
        "plt.title('Distribution of Entertainment Ratings (Violin Plot)')\n",
        "plt.ylabel('Entertainment Rating')\n",
        "\n",
        "# Show the plot\n",
        "plt.show()"
      ],
      "metadata": {
        "id": "sYI_uqDCpwdC"
      },
      "execution_count": null,
      "outputs": []
    },
    {
      "cell_type": "markdown",
      "source": [
        "##### 1. Why did you pick the specific chart?"
      ],
      "metadata": {
        "id": "iky9q4vBYrdO"
      }
    },
    {
      "cell_type": "markdown",
      "source": [
        "I picked a violin plot because it effectively showcases the distribution, quartiles, and density of \"entertainment\" ratings. This provides a comprehensive view of the data's characteristics in terms of both summary statistics and probability density."
      ],
      "metadata": {
        "id": "aJRCwT6DYrdO"
      }
    },
    {
      "cell_type": "markdown",
      "source": [
        "##### 2. What is/are the insight(s) found from the chart?"
      ],
      "metadata": {
        "id": "F6T5p64dYrdO"
      }
    },
    {
      "cell_type": "markdown",
      "source": [
        "The insights from the chart of \"entertainment\" ratings distribution (violin plot) include:\n",
        "\n",
        "\n",
        "1. Identification of the median and quartiles, offering an overview of typical satisfaction levels.\n",
        "2. Density representation shows the frequency of ratings across the range, indicating common satisfaction levels.\n",
        "3. Potential skewness or bimodality in the density can reveal distinct entertainment experiences.\n",
        "4. Provides a holistic view of entertainment satisfaction and its distribution characteristics.\n",
        "\n",
        "\n",
        "\n"
      ],
      "metadata": {
        "id": "Xx8WAJvtYrdO"
      }
    },
    {
      "cell_type": "markdown",
      "source": [
        "##### 3. Will the gained insights help creating a positive business impact?\n",
        "Are there any insights that lead to negative growth? Justify with specific reason."
      ],
      "metadata": {
        "id": "y-Ehk30pYrdP"
      }
    },
    {
      "cell_type": "markdown",
      "source": [
        "\n",
        "Positive Impact:---\n",
        "\n",
        "\n",
        "* Enhanced Services:--- Insights guide improvements in entertainment quality, leading to happier passengers.\n",
        "* Tailored Offerings:--- Addressing specific entertainment preferences can differentiate the airline and attract more customers.\n",
        "\n",
        "\n",
        "Negative Impact:\n",
        "\n",
        "\n",
        "* Bimodal Distribution:--- Bimodality might indicate inconsistent entertainment experiences, risking dissatisfaction.\n",
        "* Low Satisfaction Peaks:--- Persistent low ratings suggest ongoing entertainment issues, which could lead to negative reviews and customer loss.\n",
        "\n",
        "\n"
      ],
      "metadata": {
        "id": "jLNxxz7MYrdP"
      }
    },
    {
      "cell_type": "markdown",
      "source": [
        "#### Chart - 5 ---- How are the ratings for \"value_for_money\" spread across the reviews?\n"
      ],
      "metadata": {
        "id": "bamQiAODYuh1"
      }
    },
    {
      "cell_type": "code",
      "source": [
        "# Chart - 5 visualization code\n",
        "# Set up the figure and axes\n",
        "plt.figure(figsize=(8,6))\n",
        "sns.boxplot(data=data_airline_reviews_df,  y ='value_for_money', color='pink')\n",
        "\n",
        "# Add labels and title\n",
        "plt.title('Spread of value for Money Ratings')\n",
        "plt.ylabel(\"Value for Money Rating\")\n",
        "\n",
        "# Show the plot\n",
        "plt.show()"
      ],
      "metadata": {
        "id": "TIJwrbroYuh3"
      },
      "execution_count": null,
      "outputs": []
    },
    {
      "cell_type": "markdown",
      "source": [
        "##### 1. Why did you pick the specific chart?"
      ],
      "metadata": {
        "id": "QHF8YVU7Yuh3"
      }
    },
    {
      "cell_type": "markdown",
      "source": [
        "I selected a box plot because it displays the spread, central tendency, and potential outliers of \"value_for_money\" ratings, making it easy to understand the distribution characteristics at a glance."
      ],
      "metadata": {
        "id": "dcxuIMRPYuh3"
      }
    },
    {
      "cell_type": "markdown",
      "source": [
        "##### 2. What is/are the insight(s) found from the chart?"
      ],
      "metadata": {
        "id": "GwzvFGzlYuh3"
      }
    },
    {
      "cell_type": "markdown",
      "source": [
        "The insights from the chart for \"Value_for_money\" ratings spread  include:-\n",
        "\n",
        "\n",
        "* Median rating representing typical perceived value.\n",
        "* Spread between quartiles including the range of value perceptions.\n",
        "* Outliers, if present, signifying extreme value perceptions.\n",
        "* Provides an overview of value satisfaction levels and potential issues in value perception.\n",
        "\n",
        "\n",
        "\n",
        "\n",
        "\n",
        "\n"
      ],
      "metadata": {
        "id": "uyqkiB8YYuh3"
      }
    },
    {
      "cell_type": "markdown",
      "source": [
        "##### 3. Will the gained insights help creating a positive business impact?\n",
        "Are there any insights that lead to negative growth? Justify with specific reason."
      ],
      "metadata": {
        "id": "qYpmQ266Yuh3"
      }
    },
    {
      "cell_type": "markdown",
      "source": [
        "\n",
        "Positive Impact:---\n",
        "\n",
        "\n",
        "* Service Enhancement:--- Insights on value perceptions guide adjustments to improve perceived value.\n",
        "* Pricing Strategy:--- Addressing value concerns can lead to competitive pricing and positive customer perception.\n",
        "\n",
        "Negative Impact:---\n",
        "\n",
        "\n",
        "* Extreme Outliers:--- Extreme value perceptions need addressing to prevent negative reviews and potential reputation damage.\n",
        "* Consistently Low Value Ratings:--- Persistent low ratings suggest ongoing issues, risking negative word-of-mouth and customer loss.\n",
        "\n",
        "\n"
      ],
      "metadata": {
        "id": "_WtzZ_hCYuh4"
      }
    },
    {
      "cell_type": "markdown",
      "source": [
        "#### Chart - 6 --- What is the distribution of traveler types?"
      ],
      "metadata": {
        "id": "OH-pJp9IphqM"
      }
    },
    {
      "cell_type": "code",
      "source": [
        "# Chart - 6 visualization code\n",
        "# Count the occurrences of each traveler type\n",
        "traveler_counts = data_airline_reviews_df['traveller_type'].value_counts()\n",
        "\n",
        "# Set up the figure and axes\n",
        "plt.figure(figsize = (10,6))\n",
        "traveler_counts.plot(kind='bar', color='skyblue')\n",
        "\n",
        "# Add labels and title\n",
        "plt.title('Distribution of Traveler Types')\n",
        "plt.xlabel('Traveler Type')\n",
        "\n",
        "# Rotate x labels  for better visibility\n",
        "plt.xticks(rotation  = 45)\n",
        "\n",
        "# Show the plot\n",
        "plt.show()"
      ],
      "metadata": {
        "id": "kuRf4wtuphqN"
      },
      "execution_count": null,
      "outputs": []
    },
    {
      "cell_type": "markdown",
      "source": [
        "##### 1. Why did you pick the specific chart?"
      ],
      "metadata": {
        "id": "bbFf2-_FphqN"
      }
    },
    {
      "cell_type": "markdown",
      "source": [
        "\n",
        "I recommended a bar plot for the distribution of traveler types because it effectively displays the frequency of each type in a clear and easily interpretable manner, making it suitable for categorical data comparisons."
      ],
      "metadata": {
        "id": "loh7H2nzphqN"
      }
    },
    {
      "cell_type": "markdown",
      "source": [
        "##### 2. What is/are the insight(s) found from the chart?"
      ],
      "metadata": {
        "id": "_ouA3fa0phqN"
      }
    },
    {
      "cell_type": "markdown",
      "source": [
        "The insights from the chart of traveler type distribution (bar plot) include:\n",
        "\n",
        "\n",
        "* Identification of the most common traveler types.\n",
        "* Understanding the relative prevalence of different traveler segments.\n",
        "* Insights into the passenger composition, which can guide targeted services and marketing strategies.\n"
      ],
      "metadata": {
        "id": "VECbqPI7phqN"
      }
    },
    {
      "cell_type": "markdown",
      "source": [
        "##### 3. Will the gained insights help creating a positive business impact?\n",
        "Are there any insights that lead to negative growth? Justify with specific reason."
      ],
      "metadata": {
        "id": "Seke61FWphqN"
      }
    },
    {
      "cell_type": "markdown",
      "source": [
        "\n",
        "Positive Impact:---\n",
        "\n",
        "\n",
        "*  Tailored Services:--- Insights about prevalent traveler types can guide personalized services, enhancing customer satisfaction.\n",
        "* Effective Marketing:--- Understanding passenger composition aids in crafting targeted marketing strategies, attracting the right customer segments.\n",
        "\n",
        "Negative Impact:---\n",
        "\n",
        "\n",
        "* Neglected Segments:--- Ignoring less common traveler types might result in missed opportunities for revenue and customer satisfaction.\n",
        "* Negative Reviews:--- Poor services for specific traveler types can lead to negative reviews and damage the airline's reputation.\n",
        "\n",
        "\n",
        "\n"
      ],
      "metadata": {
        "id": "DW4_bGpfphqN"
      }
    },
    {
      "cell_type": "markdown",
      "source": [
        "#### Chart - 7 --- How many reviews are recommended and how many are not recommended?\n"
      ],
      "metadata": {
        "id": "PIIx-8_IphqN"
      }
    },
    {
      "cell_type": "code",
      "source": [
        "# Chart - 7 visualization code\n",
        "# Count the occurrences of recommended and not  recommended reviews\n",
        "recommended_counts = data_airline_reviews_df['recommended'].value_counts()\n",
        "\n",
        "# Set up the figure and axes\n",
        "plt.figure(figsize=(6,4))\n",
        "plt.pie(recommended_counts, labels = recommended_counts.index, colors= ['green','red'], autopct='%1.1f%%', startangle =  140)\n",
        "\n",
        "# Add title\n",
        "plt.title(\"Distribution of Recommended and Not Recommende Reviews\")\n",
        "\n",
        "# Show the plot\n",
        "plt.show()"
      ],
      "metadata": {
        "id": "lqAIGUfyphqO"
      },
      "execution_count": null,
      "outputs": []
    },
    {
      "cell_type": "markdown",
      "source": [
        "##### 1. Why did you pick the specific chart?"
      ],
      "metadata": {
        "id": "t27r6nlMphqO"
      }
    },
    {
      "cell_type": "markdown",
      "source": [
        "\n",
        "I recommended a pie chart because it effectively illustrates the distribution of counts between two categories (recommended and not recommended) in a visually engaging way. It showcases the proportion of each category relative to the whole."
      ],
      "metadata": {
        "id": "iv6ro40sphqO"
      }
    },
    {
      "cell_type": "markdown",
      "source": [
        "##### 2. What is/are the insight(s) found from the chart?"
      ],
      "metadata": {
        "id": "r2jJGEOYphqO"
      }
    },
    {
      "cell_type": "markdown",
      "source": [
        "The insight from the chart of recommended and not recommended reviews distribution is the proportion of each category, indicating the balance between positive and negative sentiments in passenger reviews. This insight can provide a sense of overall customer satisfaction and areas that might need improvement."
      ],
      "metadata": {
        "id": "Po6ZPi4hphqO"
      }
    },
    {
      "cell_type": "markdown",
      "source": [
        "##### 3. Will the gained insights help creating a positive business impact?\n",
        "Are there any insights that lead to negative growth? Justify with specific reason."
      ],
      "metadata": {
        "id": "b0JNsNcRphqO"
      }
    },
    {
      "cell_type": "markdown",
      "source": [
        "Positive Impact:---\n",
        "\n",
        "\n",
        "* Enhanced Services:---  Insights on review distribution can guide improvements in areas with lower recommendation rates.\n",
        "* Reputation Management:--- Addressing negative reviews can lead to improved customer sentiment and positive online reputation.\n",
        "\n",
        "\n",
        "Negative Impact:---\n",
        "\n",
        "\n",
        "* Negative Sentiment:--- A high proportion of not recommended reviews suggests dissatisfaction, potentially leading to customer loss and negative word-of-mouth.\n",
        "* Ignored Negative Reviews:--- Ignoring negative sentiment risks customer attrition and a tarnished brand image.\n",
        "\n"
      ],
      "metadata": {
        "id": "xvSq8iUTphqO"
      }
    },
    {
      "cell_type": "markdown",
      "source": [
        "#### Chart - 8 --- What is the distribution of cabin types mentioned in the reviews?"
      ],
      "metadata": {
        "id": "BZR9WyysphqO"
      }
    },
    {
      "cell_type": "code",
      "source": [
        "# Chart - 8 visualization code\n",
        "# Count the occurrences of each cabin type\n",
        "cabin_counts = data_airline_reviews_df['cabin'].value_counts()\n",
        "\n",
        "# Set up the figure and axes\n",
        "plt.figure(figsize=(6, 6))\n",
        "plt.pie(cabin_counts, labels=cabin_counts.index, autopct='%1.1f%%', startangle=140, wedgeprops=dict(width=1.5))\n",
        "\n",
        "# Add title\n",
        "plt.title('Distribution of Cabin Types (Donut Chart)')\n",
        "\n",
        "# Draw circle to create a donut chart\n",
        "centre_circle = plt.Circle((0,0),0.70,fc='white')\n",
        "fig = plt.gcf()\n",
        "fig.gca().add_artist(centre_circle)\n",
        "\n",
        "# Show the plot\n",
        "plt.show()"
      ],
      "metadata": {
        "id": "TdPTWpAVphqO"
      },
      "execution_count": null,
      "outputs": []
    },
    {
      "cell_type": "markdown",
      "source": [
        "##### 1. Why did you pick the specific chart?"
      ],
      "metadata": {
        "id": "jj7wYXLtphqO"
      }
    },
    {
      "cell_type": "markdown",
      "source": [
        "I suggested a donut chart to visually display the distribution of cabin types because it effectively presents the proportions of each category while also allowing for a clear comparison between categories, similar to a pie chart, but with the added benefit of a visible center to enhance readability."
      ],
      "metadata": {
        "id": "Ob8u6rCTphqO"
      }
    },
    {
      "cell_type": "markdown",
      "source": [
        "##### 2. What is/are the insight(s) found from the chart?"
      ],
      "metadata": {
        "id": "eZrbJ2SmphqO"
      }
    },
    {
      "cell_type": "markdown",
      "source": [
        "The insights from the chart of cabin types distribution include:--\n",
        "\n",
        "\n",
        "* Identification of the most common cabin types mentioned in reviews.\n",
        "* Understanding the relative prevalence of different cabin experiences.\n",
        "* Insights into passenger preferences for cabin classes, guiding service and marketing strategies.\n",
        "\n"
      ],
      "metadata": {
        "id": "mZtgC_hjphqO"
      }
    },
    {
      "cell_type": "markdown",
      "source": [
        "##### 3. Will the gained insights help creating a positive business impact?\n",
        "Are there any insights that lead to negative growth? Justify with specific reason."
      ],
      "metadata": {
        "id": "rFu4xreNphqO"
      }
    },
    {
      "cell_type": "markdown",
      "source": [
        "Positive Impact:---\n",
        "\n",
        "\n",
        "* Service Enhancement:--- Insights about prevalent cabin types can guide improvements in those areas, enhancing customer satisfaction.\n",
        "* Targeted Marketing:--- Understanding passenger preferences allows tailoring marketing strategies to specific cabin classes, attracting the right audience.\n",
        "\n",
        "Negative Impact:---\n",
        "\n",
        "* Neglected Cabin Classes:--- Ignoring less common cabin types might result in missed opportunities for personalized service\n",
        "* Negative Reviews:--- Poor services for specific cabin classes can lead to negative reviews and damage the airline's reputation.\n",
        "\n",
        "\n",
        "\n"
      ],
      "metadata": {
        "id": "ey_0qi68phqO"
      }
    },
    {
      "cell_type": "markdown",
      "source": [
        "#### ***BIVARIATE ANALYSIS:- NUMERICAL --   CATEGORICAL***\n"
      ],
      "metadata": {
        "id": "LB6RdBbqIvju"
      }
    },
    {
      "cell_type": "markdown",
      "source": [
        "#### Chart - 9 --- How does the average \"seat_comfort\" rating differ among different airlines?"
      ],
      "metadata": {
        "id": "YJ55k-q6phqO"
      }
    },
    {
      "cell_type": "code",
      "source": [
        "# Chart - 9 visualization code\n",
        "# Calculate the average seat_comfort rating for each airline\n",
        "average_ratings = data_airline_reviews_df.groupby('airline')['seat_comfort'].mean()\n",
        "\n",
        "# Set up the figure and axes\n",
        "plt.figure(figsize=(12, 6))\n",
        "average_ratings.sort_values(ascending=False).plot(kind='bar', color='orange')\n",
        "\n",
        "# Add labels and title\n",
        "plt.title('Average Seat Comfort Ratings by Airline')\n",
        "plt.xlabel('Airline')\n",
        "plt.ylabel('Average Seat Comfort Rating')\n",
        "\n",
        "# Rotate x labels for better visibility\n",
        "plt.xticks(rotation=45)\n",
        "\n",
        "# Show the plot\n",
        "plt.show()"
      ],
      "metadata": {
        "id": "B2aS4O1ophqO"
      },
      "execution_count": null,
      "outputs": []
    },
    {
      "cell_type": "markdown",
      "source": [
        "##### 1. Why did you pick the specific chart?"
      ],
      "metadata": {
        "id": "gCFgpxoyphqP"
      }
    },
    {
      "cell_type": "markdown",
      "source": [
        "I recommended a bar plot because it effectively compares and displays the average \"seat_comfort\" ratings for different airlines, making it easy to identify differences and patterns in seat comfort among airlines."
      ],
      "metadata": {
        "id": "TVxDimi2phqP"
      }
    },
    {
      "cell_type": "markdown",
      "source": [
        "##### 2. What is/are the insight(s) found from the chart?"
      ],
      "metadata": {
        "id": "OVtJsKN_phqQ"
      }
    },
    {
      "cell_type": "markdown",
      "source": [
        "The insights from the chart of average \"seat_comfort\" ratings among different airlines include:---\n",
        "\n",
        "\n",
        "* Identification of airlines with higher and lower average seat comfort ratings.\n",
        "* Comparison of seat comfort levels across airlines, aiding in making informed choices.\n",
        "* Understanding which airlines excel in providing comfortable seating experiences.\n",
        "* Insights for airlines to focus on areas for improvement based on seat comfort ratings.\n"
      ],
      "metadata": {
        "id": "ngGi97qjphqQ"
      }
    },
    {
      "cell_type": "markdown",
      "source": [
        "##### 3. Will the gained insights help creating a positive business impact?\n",
        "Are there any insights that lead to negative growth? Justify with specific reason."
      ],
      "metadata": {
        "id": "lssrdh5qphqQ"
      }
    },
    {
      "cell_type": "markdown",
      "source": [
        "Positive Impact:---\n",
        "\n",
        "\n",
        "* Service Enhancement:--- Insights on seat comfort disparities guide airlines to improve seating experiences, increasing passenger satisfaction.\n",
        "* Competitive Edge:--- Airlines with higher comfort ratings can leverage this in marketing to attract more customers.\n",
        "\n",
        "Negative Impact:---\n",
        "\n",
        "\n",
        "* Low Comfort Ratings:--- Airlines with consistently lower seat comfort ratings might experience negative reviews, customer dissatisfaction, and potential loss of business.\n",
        "* Neglected Improvement--- Ignoring seat comfort disparities could lead to negative sentiment, impacting the airline's reputation and potential growth.\n",
        "\n",
        "\n"
      ],
      "metadata": {
        "id": "tBpY5ekJphqQ"
      }
    },
    {
      "cell_type": "markdown",
      "source": [
        "#### Chart - 10 --- Is there a difference in \"food_bev\" ratings between different traveler types?"
      ],
      "metadata": {
        "id": "U2RJ9gkRphqQ"
      }
    },
    {
      "cell_type": "code",
      "source": [
        "# Chart - 10 visualization code\n",
        "\n",
        "# Set up the figure and axes\n",
        "plt.figure(figsize=(10,6))\n",
        "sns.violinplot(data=data_airline_reviews_df, x = 'traveller_type', y= 'food_bev', palette=  'pastel')\n",
        "\n",
        "# Add labels and title\n",
        "plt.title('Food and Beverage Ratings by Traveler Type')\n",
        "plt.xlabel('Traveler Type')\n",
        "plt.ylabel('Food and Beverage Rating')\n",
        "\n",
        "# Rotate x labels for better visibility\n",
        "plt.xticks(rotation=45)\n",
        "\n",
        "# Show the plot\n",
        "plt.show()"
      ],
      "metadata": {
        "id": "GM7a4YP4phqQ"
      },
      "execution_count": null,
      "outputs": []
    },
    {
      "cell_type": "markdown",
      "source": [
        "##### 1. Why did you pick the specific chart?"
      ],
      "metadata": {
        "id": "1M8mcRywphqQ"
      }
    },
    {
      "cell_type": "markdown",
      "source": [
        "\n",
        "I recommended a violin plot because it effectively showcases the distribution, quartiles, and density of \"food_bev\" ratings for different traveler types, allowing for a comprehensive comparison of ratings and potential differences among groups."
      ],
      "metadata": {
        "id": "8agQvks0phqQ"
      }
    },
    {
      "cell_type": "markdown",
      "source": [
        "##### 2. What is/are the insight(s) found from the chart?"
      ],
      "metadata": {
        "id": "tgIPom80phqQ"
      }
    },
    {
      "cell_type": "markdown",
      "source": [
        "The insights from the chart of \"food_bev\" ratings by traveler type (violin plot) include:---\n",
        "\n",
        "\n",
        "* Identification of median ratings, highlighting typical satisfaction levels.\n",
        "* Density representation showcasing frequency of ratings across different traveler types.\n",
        "* Potential differences in satisfaction levels among traveler groups.\n",
        "* Offers a holistic view of food and beverage satisfaction across various traveler types.\n",
        "\n",
        "\n"
      ],
      "metadata": {
        "id": "Qp13pnNzphqQ"
      }
    },
    {
      "cell_type": "markdown",
      "source": [
        "##### 3. Will the gained insights help creating a positive business impact?\n",
        "Are there any insights that lead to negative growth? Justify with specific reason."
      ],
      "metadata": {
        "id": "JMzcOPDDphqR"
      }
    },
    {
      "cell_type": "markdown",
      "source": [
        "\n",
        "Positive Impact:---\n",
        "\n",
        "\n",
        "* Targeted Improvements:--- Insights on varying satisfaction levels can guide airlines to tailor food and beverage offerings for different traveler types.\n",
        "* Enhanced Services:--- Addressing specific preferences can lead to higher satisfaction, positive reviews, and repeat business.\n",
        "\n",
        "Negative Impact:---\n",
        "\n",
        "\n",
        "* Low Satisfaction Groups:--- Identifying traveler types with consistently low ratings allows targeted improvements to prevent negative sentiment and potential customer attrition.\n",
        "* Neglected Preferences:--- Ignoring specific traveler preferences can result in dissatisfaction and negative reviews, affecting the airline's reputation and growth.\n",
        "\n"
      ],
      "metadata": {
        "id": "R4Ka1PC2phqR"
      }
    },
    {
      "cell_type": "markdown",
      "source": [
        "\n",
        "\n",
        "#### Chart - 11 ---  Compare the average \"cabin_service\" ratings for different cabins?"
      ],
      "metadata": {
        "id": "x-EpHcCOp1ci"
      }
    },
    {
      "cell_type": "code",
      "source": [
        "# Chart - 11 visualization code\n",
        "\n",
        "# Define a list of darker colors\n",
        "darker_colors = ['#1f77b4', '#ff7f0e', '#2ca02c', '#d62728', '#9467bd']\n",
        "\n",
        "# Set up the figure and axes\n",
        "plt.figure(figsize=(12, 6))\n",
        "sns.pointplot(data=data_airline_reviews_df, x='cabin', y='cabin_service', errorbar='sd', palette=darker_colors)\n",
        "\n",
        "# Add labels and title\n",
        "plt.title('Cabin Service Ratings by Cabin Type (Point Plot)')\n",
        "plt.xlabel('Cabin Type')\n",
        "plt.ylabel('Cabin Service Rating')\n",
        "\n",
        "# Rotate x labels for better visibility\n",
        "plt.xticks(rotation=45)\n",
        "\n",
        "# Show the plot\n",
        "plt.show()"
      ],
      "metadata": {
        "id": "mAQTIvtqp1cj"
      },
      "execution_count": null,
      "outputs": []
    },
    {
      "cell_type": "markdown",
      "source": [
        "##### 1. Why did you pick the specific chart?"
      ],
      "metadata": {
        "id": "X_VqEhTip1ck"
      }
    },
    {
      "cell_type": "markdown",
      "source": [
        "\n",
        "I recommended a point plot because it effectively compares the average \"cabin_service\" ratings for different cabin types, highlighting the mean and variability in ratings. This allows for clear insights into potential differences and trends among the cabin types."
      ],
      "metadata": {
        "id": "-vsMzt_np1ck"
      }
    },
    {
      "cell_type": "markdown",
      "source": [
        "##### 2. What is/are the insight(s) found from the chart?"
      ],
      "metadata": {
        "id": "8zGJKyg5p1ck"
      }
    },
    {
      "cell_type": "markdown",
      "source": [
        "\n",
        "The insight from the chart of \"cabin_service\" ratings by cabin type (point plot) includes:---\n",
        "\n",
        "\n",
        "* Comparison of average cabin service ratings among different cabin types.\n",
        "* Identification of variations and trends in service quality across cabins.\n",
        "* Potential insights into areas for improvement in specific cabin types.\n",
        "* Understanding passenger perceptions of cabin service based on the ratings.\n",
        "\n"
      ],
      "metadata": {
        "id": "ZYdMsrqVp1ck"
      }
    },
    {
      "cell_type": "markdown",
      "source": [
        "##### 3. Will the gained insights help creating a positive business impact?\n",
        "Are there any insights that lead to negative growth? Justify with specific reason."
      ],
      "metadata": {
        "id": "PVzmfK_Ep1ck"
      }
    },
    {
      "cell_type": "markdown",
      "source": [
        "Positive Impact:---\n",
        "\n",
        "\n",
        "* Targeted Enhancements:--- Insights on cabin service differences can guide airlines to focus on improving specific cabin types.\n",
        "* Enhanced Customer Satisfaction:--- Addressing disparities can lead to increased customer satisfaction and loyalty.\n",
        "\n",
        "\n",
        "Negative Impact:---\n",
        "\n",
        "\n",
        "* Neglected Cabins:--- Ignoring lower-rated cabins may lead to dissatisfaction and negative reviews, affecting brand reputation and potential business loss.\n",
        "* Uninformed Decision-Making:--- Without addressing service disparities, airlines might miss opportunities for improvements, hindering growth.\n",
        "\n",
        "\n"
      ],
      "metadata": {
        "id": "druuKYZpp1ck"
      }
    },
    {
      "cell_type": "markdown",
      "source": [
        "#### Chart - 12 --- Are there variations in \"entertainment\" ratings across recommended and not recommended reviews?"
      ],
      "metadata": {
        "id": "n3dbpmDWp1ck"
      }
    },
    {
      "cell_type": "code",
      "source": [
        "# Chart - 12 visualization code\n",
        "\n",
        "# Calculate the average entertainment rating for each recommended status\n",
        "average_ratings = data_airline_reviews_df.groupby('recommended')['entertainment'].mean()\n",
        "\n",
        "# Set up the figure and axes\n",
        "plt.figure(figsize=(8, 6))\n",
        "average_ratings.plot(kind='bar', color=['blue', 'orange'])\n",
        "\n",
        "# Add labels and title\n",
        "plt.title('Average Entertainment Ratings by Recommended Status')\n",
        "plt.xlabel('Recommended Status')\n",
        "plt.ylabel('Average Entertainment Rating')\n",
        "\n",
        "# Customize x labels\n",
        "plt.xticks(range(2), ['Not Recommended', 'Recommended'], rotation=0)\n",
        "\n",
        "# Show the plot\n",
        "plt.show()"
      ],
      "metadata": {
        "id": "bwevp1tKp1ck"
      },
      "execution_count": null,
      "outputs": []
    },
    {
      "cell_type": "markdown",
      "source": [
        "##### 1. Why did you pick the specific chart?"
      ],
      "metadata": {
        "id": "ylSl6qgtp1ck"
      }
    },
    {
      "cell_type": "markdown",
      "source": [
        "\n",
        "I recommended a grouped bar plot because it effectively displays the average \"entertainment\" ratings for recommended and not recommended reviews side by side, making it easy to compare and identify differences in ratings between the two groups."
      ],
      "metadata": {
        "id": "m2xqNkiQp1ck"
      }
    },
    {
      "cell_type": "markdown",
      "source": [
        "##### 2. What is/are the insight(s) found from the chart?"
      ],
      "metadata": {
        "id": "ZWILFDl5p1ck"
      }
    },
    {
      "cell_type": "markdown",
      "source": [
        "The insight from the chart of \"entertainment\" ratings by recommended status (grouped bar plot) includes:---\n",
        "\n",
        "\n",
        "* Clear comparison of average entertainment ratings between recommended and not recommended reviews.\n",
        "* Identification of potential variations in entertainment satisfaction between the two review categories.\n",
        "* Insights into whether entertainment quality impacts the likelihood of a review being recommended or not.\n",
        "* Possibility of understanding how entertainment contributes to overall passenger satisfaction.\n",
        "\n",
        "\n",
        "\n",
        "\n"
      ],
      "metadata": {
        "id": "x-lUsV2mp1ck"
      }
    },
    {
      "cell_type": "markdown",
      "source": [
        "##### 3. Will the gained insights help creating a positive business impact?\n",
        "Are there any insights that lead to negative growth? Justify with specific reason."
      ],
      "metadata": {
        "id": "M7G43BXep1ck"
      }
    },
    {
      "cell_type": "markdown",
      "source": [
        "Positive Impact:---\n",
        "\n",
        "\n",
        "* Informed Decisions:--- Insights can guide improvements in entertainment offerings, enhancing passenger satisfaction and potentially leading to more positive reviews.\n",
        "* Targeted Enhancements:--- Tailoring entertainment experiences based on insights can increase customer loyalty and positive word-of-mouth.\n",
        "\n",
        "Negative Impact:---\n",
        "* Negative Impression:--- If \"not recommended\" reviews consistently mention poor entertainment, it could harm the airline's reputation and discourage potential customers.\n",
        "* Missed Opportunities:--- Ignoring entertainment quality can result in lost revenue and negative sentiment, impacting business growth.\n",
        "\n"
      ],
      "metadata": {
        "id": "5wwDJXsLp1cl"
      }
    },
    {
      "cell_type": "markdown",
      "source": [
        "####***BIVARIATE ANALYSIS:-- NUMERICAL -- NUMERICAL***\n",
        "\n",
        "\n"
      ],
      "metadata": {
        "id": "g3Zjslrrgzau"
      }
    },
    {
      "cell_type": "markdown",
      "source": [
        "#### Chart - 13 --- Is there a correlation between \"seat_comfort\" and \"food_bev\" ratings?"
      ],
      "metadata": {
        "id": "Ag9LCva-p1cl"
      }
    },
    {
      "cell_type": "code",
      "source": [
        "# Chart - 13 visualization code\n",
        "\n",
        "# Set up the figure and axes\n",
        "sns.set(style='white')\n",
        "sns.jointplot(data=data_airline_reviews_df, x='seat_comfort', y='food_bev', kind='scatter', color='blue')\n",
        "\n",
        "# Show the plot\n",
        "plt.show()"
      ],
      "metadata": {
        "id": "EUfxeq9-p1cl"
      },
      "execution_count": null,
      "outputs": []
    },
    {
      "cell_type": "markdown",
      "source": [
        "##### 1. Why did you pick the specific chart?"
      ],
      "metadata": {
        "id": "E6MkPsBcp1cl"
      }
    },
    {
      "cell_type": "markdown",
      "source": [
        "\n",
        "I recommended a joint plot because it combines a scatter plot of the two variables with individual distributions and a regression line. This allows for a comprehensive understanding of the relationship between \"seat_comfort\" and \"food_bev\" ratings, including their correlation and distribution patterns."
      ],
      "metadata": {
        "id": "V22bRsFWp1cl"
      }
    },
    {
      "cell_type": "markdown",
      "source": [
        "##### 2. What is/are the insight(s) found from the chart?"
      ],
      "metadata": {
        "id": "2cELzS2fp1cl"
      }
    },
    {
      "cell_type": "markdown",
      "source": [
        "The insight from the joint plot of \"seat_comfort\" and \"food_bev\" ratings includes:---\n",
        "\n",
        "* Positive Correlation:--- Generally, higher \"seat_comfort\" ratings are associated with higher \"food_bev\" ratings.\n",
        "* Linear Trend:--- The scatter points roughly follow a linear pattern, suggesting a moderate positive correlation.\n",
        "* Distribution Insights:--- The histograms show the distributions of both ratings individually, indicating common ratings and potential areas for improvement.\n",
        "\n",
        "Overall, passengers who rate seats higher for comfort tend to rate food and beverage offerings higher as well.\n"
      ],
      "metadata": {
        "id": "ozQPc2_Ip1cl"
      }
    },
    {
      "cell_type": "markdown",
      "source": [
        "##### 3. Will the gained insights help creating a positive business impact?\n",
        "Are there any insights that lead to negative growth? Justify with specific reason."
      ],
      "metadata": {
        "id": "3MPXvC8up1cl"
      }
    },
    {
      "cell_type": "markdown",
      "source": [
        "Positive Impact:---\n",
        "\n",
        "\n",
        "* Improvement Opportunities:--- Insights can guide targeted enhancements in seat comfort and food/beverage quality, boosting passenger satisfaction.\n",
        "* Enhanced Reputation:--- Addressing both aspects collectively can lead to positive reviews, increased loyalty, and positive word-of-mouth.\n",
        "\n",
        "\n",
        "Negative Impact:---\n",
        "\n",
        "\n",
        "* Discrepancy Challenges:--- If there's a significant disparity between seat comfort and food/beverage ratings, it could lead to dissatisfaction and negative reviews.\n",
        "* Missed Synergies:--- Ignoring the correlation might result in missed opportunities to enhance passenger experiences holistically, hindering business growth.\n",
        "\n"
      ],
      "metadata": {
        "id": "GL8l1tdLp1cl"
      }
    },
    {
      "cell_type": "markdown",
      "source": [
        "#### Chart - 14 --- How does the \"ground_service\" rating correlate with the \"value_for_money\" rating?"
      ],
      "metadata": {
        "id": "jZOwQ34RkUkD"
      }
    },
    {
      "cell_type": "code",
      "source": [
        "# Chart - 14 visualization code\n",
        "# Set up the figure and axes\n",
        "plt.figure(figsize=(8, 6))\n",
        "plt.hexbin(data_airline_reviews_df['ground_service'], data_airline_reviews_df ['value_for_money'], gridsize=20, cmap='Greens')\n",
        "\n",
        "# Add labels and title\n",
        "plt.title('Correlation between Ground Service and Value for Money Ratings (Hexbin Plot)')\n",
        "plt.xlabel('Ground Service Rating')\n",
        "plt.ylabel('Value for Money Rating')\n",
        "\n",
        "# Add a colorbar\n",
        "cb = plt.colorbar()\n",
        "cb.set_label('Frequency')\n",
        "\n",
        "# Show the plot\n",
        "plt.show()"
      ],
      "metadata": {
        "id": "va7Gj4EykkhR"
      },
      "execution_count": null,
      "outputs": []
    },
    {
      "cell_type": "markdown",
      "source": [
        "##### 1. Why did you pick the specific chart?"
      ],
      "metadata": {
        "id": "a88kLJEgm26L"
      }
    },
    {
      "cell_type": "markdown",
      "source": [
        "\n",
        "I recommended a hexbin plot because it effectively displays the density of data points between \"ground_service\" and \"value_for_money\" ratings. This plot helps to observe areas of higher concentration and trends in their relationship, especially when dealing with a large number of data points."
      ],
      "metadata": {
        "id": "YXlV5TeDm8Mr"
      }
    },
    {
      "cell_type": "markdown",
      "source": [
        "##### 2. What is/are the insight(s) found from the chart?"
      ],
      "metadata": {
        "id": "B-lHAVvWnaxY"
      }
    },
    {
      "cell_type": "markdown",
      "source": [
        "\n",
        "The insight from the hexbin plot of \"ground_service\" and \"value_for_money\" ratings includes:---\n",
        "\n",
        "\n",
        "* Density Patterns:--- The plot reveals areas of high density, indicating common combinations of ratings.\n",
        "* Correlation Trend:--- Dense regions along a diagonal suggest a positive correlation between ground service and value for money.\n",
        "* Spread Variation:--- Sparsely populated areas suggest some reviews with differing ratings for these aspects.L\n",
        "* Potential for Improvement:--- Focus on enhancing both ground service and value for money together could lead to positive customer experiences.\n"
      ],
      "metadata": {
        "id": "-moPb5c_nfvM"
      }
    },
    {
      "cell_type": "markdown",
      "source": [
        "##### 3. Will the gained insights help creating a positive business impact?\n",
        "Are there any insights that lead to negative growth? Justify with specific reason."
      ],
      "metadata": {
        "id": "LAcz-vOlog7X"
      }
    },
    {
      "cell_type": "markdown",
      "source": [
        "\n",
        "\n",
        "* Positive Impact:---\n",
        " The hexbin plot suggests areas of common ratings and density patterns between ground service and value for money, enabling targeted enhancements for positive passenger experiences.\n",
        "* Negative Growth:----\n",
        " While the plot doesn't directly indicate negative growth, potential challenges may arise if a cluster of low ratings in the hexbin plot signifies a significant dissatisfaction in both aspects, possibly leading to negative reviews and reputation impact.\n",
        "\n"
      ],
      "metadata": {
        "id": "BCtrRr8KpfoJ"
      }
    },
    {
      "cell_type": "markdown",
      "source": [
        "#### Chart - 15 ---  Is there any relationship between \"overall\" ratings and \"value_for_money\"?"
      ],
      "metadata": {
        "id": "BuGm86sqn8So"
      }
    },
    {
      "cell_type": "code",
      "source": [
        "# Chart - 15 visualization code\n",
        "# Set up the figure and axes\n",
        "plt.figure(figsize=(8, 6))\n",
        "sns.violinplot(data=data_airline_reviews_df, x='overall', y='value_for_money', palette='magma')\n",
        "\n",
        "# Add labels and title\n",
        "plt.title('Relationship between Overall Ratings and Value for Money Ratings')\n",
        "plt.xlabel('Overall Rating')\n",
        "plt.ylabel('Value for Money Rating')\n",
        "\n",
        "# Show the plot\n",
        "plt.show()"
      ],
      "metadata": {
        "id": "SDMAVYqCoRv6"
      },
      "execution_count": null,
      "outputs": []
    },
    {
      "cell_type": "markdown",
      "source": [
        "##### 1. Why did you pick the specific chart?"
      ],
      "metadata": {
        "id": "4w-s3LF5oFyk"
      }
    },
    {
      "cell_type": "markdown",
      "source": [
        "I recommended a violin plot because it effectively displays the distribution of \"value_for_money\" ratings across different \"overall\" rating categories, allowing for insights into the relationship between these variables and potential patterns or trends."
      ],
      "metadata": {
        "id": "fk9EQVAKoWNS"
      }
    },
    {
      "cell_type": "markdown",
      "source": [
        "##### 2. What is/are the insight(s) found from the chart?"
      ],
      "metadata": {
        "id": "P9Q_ptcUoWwa"
      }
    },
    {
      "cell_type": "markdown",
      "source": [
        "The insight from the violin plot of \"overall\" ratings and \"value_for_money\" is:---\n",
        "\n",
        "\n",
        "* Consistent Patterns:--- Higher \"overall\" ratings tend to have higher \"value_for_money\" ratings, suggesting passengers perceive better value as overall satisfaction increases.\n",
        "\n",
        "* Distribution Variation:--- Ratings' distribution widens as \"overall\" ratings increase, indicating more diverse perceptions of value at higher overall satisfaction levels.\n",
        "* Positive Correlation:--- The plot supports the notion that passengers generally associate better overall experiences with better perceived value for money.\n"
      ],
      "metadata": {
        "id": "E7KGBzHmoZXD"
      }
    },
    {
      "cell_type": "markdown",
      "source": [
        "##### 3. Will the gained insights help creating a positive business impact?\n",
        "Are there any insights that lead to negative growth? Justify with specific reason."
      ],
      "metadata": {
        "id": "bhJ0mnEAoZxW"
      }
    },
    {
      "cell_type": "markdown",
      "source": [
        "\n",
        "\n",
        "* Positive Impact:--- Insights highlight a positive correlation between overall satisfaction and perceived value, enabling targeted improvements for a more positive passenger experience and potential for higher ratings and loyalty.\n",
        "* Negative Growth:--- The insights don't inherently lead to negative growth. However, a consistent lack of value perception despite high overall ratings could potentially lead to dissatisfaction and negative reviews if passengers feel their money isn't well spent.\n",
        "\n"
      ],
      "metadata": {
        "id": "M4qzQ2GAop44"
      }
    },
    {
      "cell_type": "markdown",
      "source": [
        "#### ***BIVARIATE ANALYSIS :-- CATEGORICAL -- CATEGORICAL***"
      ],
      "metadata": {
        "id": "eobGYEg_tWTr"
      }
    },
    {
      "cell_type": "markdown",
      "source": [
        "#### Chart - 16 --- How does the distribution of traveler types vary across different airlines?"
      ],
      "metadata": {
        "id": "-6UQmW4epzrK"
      }
    },
    {
      "cell_type": "code",
      "source": [
        "# Chart - 16 visualization code\n",
        "# Set up the figure and axes\n",
        "plt.figure(figsize=(12, 6))\n",
        "sns.countplot(data=data_airline_reviews_df, x='airline', hue='traveller_type', palette='Set1')\n",
        "\n",
        "# Add labels and title\n",
        "plt.title('Distribution of Traveler Types across Different Airlines')\n",
        "plt.xlabel('Airline')\n",
        "plt.ylabel('Count')\n",
        "\n",
        "# Rotate x-axis labels for better readability\n",
        "plt.xticks(rotation=45)\n",
        "\n",
        "# Add a legend\n",
        "plt.legend(title='Traveler Type')\n",
        "\n",
        "# Show the plot\n",
        "plt.tight_layout()\n",
        "plt.show()"
      ],
      "metadata": {
        "id": "9T-rPCiXqAFA"
      },
      "execution_count": null,
      "outputs": []
    },
    {
      "cell_type": "markdown",
      "source": [
        "##### 1. Why did you pick the specific chart?"
      ],
      "metadata": {
        "id": "roYLqvD1qMEg"
      }
    },
    {
      "cell_type": "markdown",
      "source": [
        "I recommended a grouped bar plot because it effectively displays the distribution of traveler types across different airlines, allowing for easy comparison of counts within each category. This plot helps identify variations in traveler types' preferences across airlines."
      ],
      "metadata": {
        "id": "uiAUAlIdud9u"
      }
    },
    {
      "cell_type": "markdown",
      "source": [
        "##### 2. What is/are the insight(s) found from the chart?"
      ],
      "metadata": {
        "id": "VgRji-psqiOB"
      }
    },
    {
      "cell_type": "markdown",
      "source": [
        "\n",
        "The insights from the grouped bar plot of traveler types across different airlines are:---\n",
        "\n",
        "\n",
        "* Prevalent Traveler Types:--- It highlights which traveler types are most common for each airline.\n",
        "* Airlines' Focus:--- Shows if certain airlines cater more to specific traveler segments (e.g., business, leisure, family).\n",
        "* Market Segmentation:--- Identifies potential market segments airlines might target based on traveler type preferences.\n",
        "* Competitive Analysis:--- Allows for competitive analysis by comparing traveler type distributions among airlines.\n",
        "\n"
      ],
      "metadata": {
        "id": "XRcl5Bp_ukm7"
      }
    },
    {
      "cell_type": "markdown",
      "source": [
        " 3. Will the gained insights help creating a positive business impact?\n",
        "Are there any insights that lead to negative growth? Justify with specific reason."
      ],
      "metadata": {
        "id": "eNFKXPOcqrHt"
      }
    },
    {
      "cell_type": "markdown",
      "source": [
        "\n",
        "\n",
        "* Positive Impact:--- Insights aid in tailoring services to specific traveler types, enhancing customer satisfaction and loyalty, potentially leading to positive reviews and repeat business.\n",
        "* Negative Growth:--- While insights don't inherently lead to negative growth, if an airline doesn't align its services with prevalent traveler preferences, it might miss opportunities for positive growth and customer retention.\n",
        "\n"
      ],
      "metadata": {
        "id": "vIE8Yv8sulcn"
      }
    },
    {
      "cell_type": "markdown",
      "source": [
        "#### Chart - 17 --- Can you explore the relationship between the recommended status and the traveler type?"
      ],
      "metadata": {
        "id": "XM7citrmp3Wl"
      }
    },
    {
      "cell_type": "code",
      "source": [
        "# Chart - 17 visualization code\n",
        "# Calculate the percentage of recommended and not recommended for each traveler type\n",
        "recommendation_percentages = data_airline_reviews_df.groupby(['traveller_type', 'recommended']).size().unstack().apply(lambda x: x / x.sum(), axis=1)\n",
        "\n",
        "# Set up the figure and axes\n",
        "plt.figure(figsize=(12, 8))\n",
        "recommendation_percentages.plot(kind='bar', stacked=True, colormap='coolwarm')\n",
        "\n",
        "# Add labels and title\n",
        "plt.title('Recommended Status by Traveler Type')\n",
        "plt.xlabel('Traveler Type')\n",
        "plt.ylabel('Percentage')\n",
        "\n",
        "# Add a legend\n",
        "plt.legend(title='Recommended')\n",
        "\n",
        "# Show the plot\n",
        "plt.tight_layout()\n",
        "plt.show()"
      ],
      "metadata": {
        "id": "2cczTP-AqBvD"
      },
      "execution_count": null,
      "outputs": []
    },
    {
      "cell_type": "markdown",
      "source": [
        "##### 1. Why did you pick the specific chart?"
      ],
      "metadata": {
        "id": "COGeB2N3qMue"
      }
    },
    {
      "cell_type": "markdown",
      "source": [
        "I recommended the stacked percentage bar plot because it effectively illustrates the distribution of \"recommended\" and \"not recommended\" statuses across different traveler types in terms of percentages. This plot allows for a clear comparison of the proportion of each status within each traveler type, helping to understand how the recommendation status varies among different types of travelers.\n",
        "\n",
        "\n",
        "\n",
        "\n"
      ],
      "metadata": {
        "id": "LSiCHn1fwTsz"
      }
    },
    {
      "cell_type": "markdown",
      "source": [
        "##### 2. What is/are the insight(s) found from the chart?"
      ],
      "metadata": {
        "id": "PrWvsHwKqjBB"
      }
    },
    {
      "cell_type": "markdown",
      "source": [
        "\n",
        "The insights from the stacked percentage bar plot of \"recommended\" status by traveler type are:---\n",
        "\n",
        "\n",
        "\n",
        "* Varied Recommendations:--- The plot shows the percentage breakdown of \"recommended\" and \"not recommended\" reviews for each traveler type.\n",
        "\n",
        "* Traveler Type Impact:--- Some traveler types have a higher proportion of recommended reviews, while others have a higher proportion of not recommended reviews.\n",
        "\n",
        "\n",
        "* Traveler Type Impact: Some traveler types have a higher proportion of recommended reviews, while others have a higher proportion of not recommended reviews.\n",
        "* Service Adjustments: If a specific traveler type consistently provides lower recommendations, it indicates potential areas for service improvement or personalized offerings for that segment.\n",
        "\n",
        "\n"
      ],
      "metadata": {
        "id": "YwMefnjtwdHo"
      }
    },
    {
      "cell_type": "markdown",
      "source": [
        "3. Will the gained insights help creating a positive business impact?\n",
        "Are there any insights that lead to negative growth? Justify with specific reason."
      ],
      "metadata": {
        "id": "GpgLp8z4qr8Z"
      }
    },
    {
      "cell_type": "markdown",
      "source": [
        "\n",
        "\n",
        "* Positive Impact: Insights allow airlines to adjust their services and offerings based on traveler types' recommendation patterns, enhancing customer satisfaction and loyalty. This targeted approach can lead to more positive reviews, increased repeat business, and positive word-of-mouth.\n",
        "* Negative Growth: Insights don't inherently lead to negative growth. However, if a significant traveler type consistently provides negative recommendations, it might indicate dissatisfaction that could lead to negative reviews and reputational damage if not addressed promptly.\n",
        "\n"
      ],
      "metadata": {
        "id": "wrbbZR63w2TH"
      }
    },
    {
      "cell_type": "markdown",
      "source": [
        "#### Chart - 18 --- Is there a connection between different cabin types and the recommendation status?\n"
      ],
      "metadata": {
        "id": "00CpgjhTp4wF"
      }
    },
    {
      "cell_type": "code",
      "source": [
        "# Chart - 18 visualization code\n",
        "from statsmodels.graphics.mosaicplot import mosaic\n",
        "\n",
        "# Create a mosaic plot\n",
        "plt.figure(figsize=(12, 8))\n",
        "mosaic(data_airline_reviews_df, ['cabin', 'recommended'], title='Mosaic Plot of Recommended Status by Cabin Type')\n",
        "\n",
        "# Show the plot\n",
        "plt.tight_layout()\n",
        "plt.show()"
      ],
      "metadata": {
        "id": "PSvlMcOQqDUp"
      },
      "execution_count": null,
      "outputs": []
    },
    {
      "cell_type": "markdown",
      "source": [
        "##### 1. Why did you pick the specific chart?"
      ],
      "metadata": {
        "id": "-u0Z4kCRqNZt"
      }
    },
    {
      "cell_type": "markdown",
      "source": [
        "\n",
        "I recommended a mosaic plot because it offers a comprehensive and visually intuitive way to depict the relationship between two categorical variables (cabin type and recommendation status). The mosaic plot's varying rectangle sizes provide a clear representation of the distribution of recommendation status within each cabin type, allowing for easy comparison and identification of any notable patterns or disparities.\n",
        "\n"
      ],
      "metadata": {
        "id": "gZ84HMVbxoVK"
      }
    },
    {
      "cell_type": "markdown",
      "source": [
        "##### 2. What is/are the insight(s) found from the chart?"
      ],
      "metadata": {
        "id": "Df6Cr2COqlgq"
      }
    },
    {
      "cell_type": "markdown",
      "source": [
        "\n",
        "The insights from the mosaic plot of cabin types and recommendation status are:---\n",
        "\n",
        "* Cabin Variation: The plot shows how the distribution of \"recommended\" and \"not recommended\" reviews varies across different cabin types.\n",
        "\n",
        "* Recommendation Patterns: It's evident whether certain cabin types have a higher or lower proportion of recommended reviews compared to others.\n",
        "* Service Quality: If specific cabin types consistently receive lower recommendations, it may suggest that passengers in those cabins have less satisfactory experiences.\n",
        "\n",
        "\n",
        "* Opportunities for Improvement: If there are notable differences in recommendation proportions among cabin types, airlines can focus on improving services in certain cabin categories to enhance passenger satisfaction and recommendations.\n",
        "\n"
      ],
      "metadata": {
        "id": "G_rtyUfzxqTX"
      }
    },
    {
      "cell_type": "markdown",
      "source": [
        "3. Will the gained insights help creating a positive business impact?\n",
        "Are there any insights that lead to negative growth? Justify with specific reason."
      ],
      "metadata": {
        "id": "ER8oCApoqs3S"
      }
    },
    {
      "cell_type": "markdown",
      "source": [
        "\n",
        "\n",
        "* Positive Impact: Insights can drive positive business impact. Addressing the variations in recommendation status among different cabin types allows airlines to tailor services, amenities, and overall experiences, resulting in improved passenger satisfaction and higher recommendations. This can lead to positive reviews, repeat business, and enhanced brand reputation.\n",
        "*  Negative Growth: The insights themselves don't inherently lead to negative growth. However, if specific cabin types consistently receive lower recommendations, it could indicate areas of concern in service quality or passenger experience. If left unaddressed, this could potentially lead to negative reviews, decreased customer loyalty, and negative impact on business growth.\n"
      ],
      "metadata": {
        "id": "gsjhGcVfxq08"
      }
    },
    {
      "cell_type": "markdown",
      "source": [
        "##### ***MULTIVARIATE ANALYSIS***\n"
      ],
      "metadata": {
        "id": "9Pg7lbr4yTJ0"
      }
    },
    {
      "cell_type": "markdown",
      "source": [
        "#### Chart - 19 --- How \"seat_comfort,\" \"food_bev,\" and \"cabin_service\" ratings collectively contribute to the overall ratings?"
      ],
      "metadata": {
        "id": "1K7x9sfbp6ES"
      }
    },
    {
      "cell_type": "code",
      "source": [
        "# Chart - 19 visualization code\n",
        "import plotly.express as px\n",
        "\n",
        "# Select relevant columns\n",
        "selected_columns = ['seat_comfort', 'food_bev', 'cabin_service', 'overall']\n",
        "\n",
        "# Create a parallel coordinate plot\n",
        "fig = px.parallel_coordinates(data_airline_reviews_df[selected_columns], color='overall', color_continuous_scale='RdBu')\n",
        "\n",
        "# Show the plot\n",
        "fig.show()"
      ],
      "metadata": {
        "id": "YXV0OYMwqE-3"
      },
      "execution_count": null,
      "outputs": []
    },
    {
      "cell_type": "markdown",
      "source": [
        "##### 1. Why did you pick the specific chart?"
      ],
      "metadata": {
        "id": "aDL08JblqN-o"
      }
    },
    {
      "cell_type": "markdown",
      "source": [
        "I recommended the parallel coordinates plot because it effectively displays the relationships and interactions between multiple variables (\"seat_comfort,\" \"food_bev,\" \"cabin_service,\" and \"overall\" ratings) in a single visualization. This plot allows you to observe how changes in each individual rating relate to changes in the overall rating. By coloring the lines based on the \"overall\" rating, it provides an additional layer of insight into how these variables collectively contribute to the passengers' overall experience. This visualization is particularly useful when comparing multiple variables and their impact on a target variable."
      ],
      "metadata": {
        "id": "NEVz90fQzofE"
      }
    },
    {
      "cell_type": "markdown",
      "source": [
        "##### 2. What is/are the insight(s) found from the chart?"
      ],
      "metadata": {
        "id": "O2IYEIu5qnt-"
      }
    },
    {
      "cell_type": "markdown",
      "source": [
        "\n",
        "The parallel coordinates plot reveals how changes in \"seat_comfort,\" \"food_bev,\" and \"cabin_service\" ratings are related to changes in the overall rating. It highlights patterns, interactions, and clusters among these variables, aiding in understanding their combined impact on passenger satisfaction. This insight helps prioritize improvements and tailor services for a better overall experience."
      ],
      "metadata": {
        "id": "GVnlgfcEzyMj"
      }
    },
    {
      "cell_type": "markdown",
      "source": [
        "3. Will the gained insights help creating a positive business impact?\n",
        "Are there any insights that lead to negative growth? Justify with specific reason."
      ],
      "metadata": {
        "id": "GUtv7eN1qtm5"
      }
    },
    {
      "cell_type": "markdown",
      "source": [
        "\n",
        "Yes, the gained insights can create a positive impact by helping airlines prioritize improvements and tailor services. Neglecting critical aspects could lead to negative growth due to unaddressed customer concerns affecting overall satisfaction and recommendations."
      ],
      "metadata": {
        "id": "wEdcslkjz4mL"
      }
    },
    {
      "cell_type": "markdown",
      "source": [
        "#### Chart - 20 --- How does the relationship between \"value_for_money\" and \"seat_comfort\" change when considering traveler types?"
      ],
      "metadata": {
        "id": "kkHM_F9zp71S"
      }
    },
    {
      "cell_type": "code",
      "source": [
        "# Chart - 20 visualization code\n",
        "# Set the style for the plot\n",
        "sns.set(style=\"whitegrid\")\n",
        "\n",
        "plt.figure(figsize=(10, 6))\n",
        "sns.barplot(x='traveller_type', y='value_for_money', hue='seat_comfort', data=data_airline_reviews_df, errcolor=\"grey\", errwidth=0, dodge=True)\n",
        "\n",
        "plt.xlabel('Traveler Type')\n",
        "plt.ylabel('Value for Money')\n",
        "plt.title('Relationship between Value for Money and Seat Comfort by Traveler Type')\n",
        "\n",
        "plt.legend(title='Seat Comfort')\n",
        "\n",
        "plt.xticks(rotation=45)\n",
        "plt.tight_layout()\n",
        "plt.show()"
      ],
      "metadata": {
        "id": "zZ1ddE3QqHP-"
      },
      "execution_count": null,
      "outputs": []
    },
    {
      "cell_type": "markdown",
      "source": [
        "##### 1. Why did you pick the specific chart?"
      ],
      "metadata": {
        "id": "c95IahKtqOtF"
      }
    },
    {
      "cell_type": "markdown",
      "source": [
        "A bar plot with hue differentiation was recommended because it effectively compares \"value_for_money\" and \"seat_comfort\" across different \"traveller_type\" categories using color-coded bars for different seat comfort levels, making the relationship easy to visualize and compare."
      ],
      "metadata": {
        "id": "epqWs0iIA_AK"
      }
    },
    {
      "cell_type": "markdown",
      "source": [
        "##### 2. What is/are the insight(s) found from the chart?"
      ],
      "metadata": {
        "id": "hlS_4OVcqmyC"
      }
    },
    {
      "cell_type": "markdown",
      "source": [
        "The chart reveals how the relationship between \"value_for_money\" and \"seat_comfort\" varies among different traveler types. It shows which traveler types experience better value for money and seat comfort combinations, helping identify potential patterns or preferences."
      ],
      "metadata": {
        "id": "OYx9tppWBATO"
      }
    },
    {
      "cell_type": "markdown",
      "source": [
        "3. Will the gained insights help creating a positive business impact?\n",
        "Are there any insights that lead to negative growth? Justify with specific reason."
      ],
      "metadata": {
        "id": "mhQAMhkSqunN"
      }
    },
    {
      "cell_type": "markdown",
      "source": [
        "Yes, the insights can positively impact business by guiding tailored services. Negative growth might result from dissatisfaction in certain traveler types, requiring improvements to prevent declines in customer satisfaction and loyalty."
      ],
      "metadata": {
        "id": "mDaE9KltBP7J"
      }
    },
    {
      "cell_type": "markdown",
      "source": [
        "#### Chart - 21 - Correlation Heatmap"
      ],
      "metadata": {
        "id": "NC_X3p0fY2L0"
      }
    },
    {
      "cell_type": "code",
      "source": [
        "# Correlation Heatmap visualization code\n",
        "# Select numerical columns for correlation\n",
        "numerical_columns = ['overall', 'seat_comfort', 'cabin_service', 'food_bev', 'entertainment', 'ground_service', 'value_for_money']\n",
        "\n",
        "# Calculate the correlation matrix\n",
        "correlation_matrix = data_airline_reviews_df[numerical_columns].corr()\n",
        "\n",
        "# Create a heatmap\n",
        "plt.figure(figsize=(10, 8))\n",
        "sns.heatmap(correlation_matrix, annot=True, cmap='coolwarm', center=0)\n",
        "plt.title('Correlation Heatmap of Ratings')\n",
        "plt.show()"
      ],
      "metadata": {
        "id": "xyC9zolEZNRQ"
      },
      "execution_count": null,
      "outputs": []
    },
    {
      "cell_type": "markdown",
      "source": [
        "##### 1. Why did you pick the specific chart?"
      ],
      "metadata": {
        "id": "UV0SzAkaZNRQ"
      }
    },
    {
      "cell_type": "markdown",
      "source": [
        "A correlation heatmap was chosen because it effectively displays the relationships between multiple numerical variables, aiding in identifying patterns, strengths, and directions of correlations in a concise and visually intuitive manner.\n",
        "\n",
        "\n",
        "\n",
        "\n"
      ],
      "metadata": {
        "id": "DVPuT8LYZNRQ"
      }
    },
    {
      "cell_type": "markdown",
      "source": [
        "##### 2. What is/are the insight(s) found from the chart?"
      ],
      "metadata": {
        "id": "YPEH6qLeZNRQ"
      }
    },
    {
      "cell_type": "markdown",
      "source": [
        "Insights from the correlation heatmap include identifying positive and negative relationships between different rating aspects. It can suggest potential improvement areas, trade-offs, and help prioritize aspects for enhancement in airline reviews."
      ],
      "metadata": {
        "id": "bfSqtnDqZNRR"
      }
    },
    {
      "cell_type": "markdown",
      "source": [
        "#### Chart - 22 --- Pair Plot"
      ],
      "metadata": {
        "id": "q29F0dvdveiT"
      }
    },
    {
      "cell_type": "code",
      "source": [
        "# Pair Plot visualization code\n",
        "# Select numerical columns for the pair plot\n",
        "numerical_columns = ['overall', 'seat_comfort', 'cabin_service', 'food_bev', 'entertainment', 'ground_service', 'value_for_money']\n",
        "\n",
        "# Create a pair plot\n",
        "sns.pairplot(data_airline_reviews_df[numerical_columns])\n",
        "plt.suptitle(\"Pair Plot of Ratings\", y=1.02)\n",
        "plt.show()"
      ],
      "metadata": {
        "id": "o58-TEIhveiU"
      },
      "execution_count": null,
      "outputs": []
    },
    {
      "cell_type": "markdown",
      "source": [
        "##### 1. Why did you pick the specific chart?"
      ],
      "metadata": {
        "id": "EXh0U9oCveiU"
      }
    },
    {
      "cell_type": "markdown",
      "source": [
        "A pair plot was recommended because it helps visualize relationships between multiple numerical variables, enabling identification of correlations, patterns, and potential trade-offs among \"value_for_money\", \"seat_comfort\", \"cabin_service\", \"food_bev\", and \"entertainment\" ratings in a single view."
      ],
      "metadata": {
        "id": "eMmPjTByveiU"
      }
    },
    {
      "cell_type": "markdown",
      "source": [
        "##### 2. What is/are the insight(s) found from the chart?"
      ],
      "metadata": {
        "id": "22aHeOlLveiV"
      }
    },
    {
      "cell_type": "markdown",
      "source": [
        "From the pair plot, insights can include identifying:---\n",
        "\n",
        "1. Correlations:--- Positive or negative correlations between rating variables, indicating how they tend to change together.\n",
        "\n",
        "2. Clusters:--- Groupings of data points in the scatter plots, suggesting certain combinations of ratings are more common.\n",
        "\n",
        "3. Patterns:--- Trends in how one rating affects another; for instance, higher \"seat_comfort\" might be associated with higher \"value_for_money\".\n",
        "\n",
        "4. Outliers:--- Data points that deviate significantly from the overall pattern, indicating unique cases.\n",
        "\n",
        "5. Trade-offs:--- Potential trade-offs between different aspects, such as passengers willing to compromise \"value_for_money\" for better \"entertainment\".\n",
        "\n",
        "Remember, insights can vary based on the data and context, so a thorough examination of the pair plot is crucial.\n",
        "\n",
        "\n",
        "\n",
        "\n"
      ],
      "metadata": {
        "id": "uPQ8RGwHveiV"
      }
    },
    {
      "cell_type": "markdown",
      "source": [
        "## ***5. Hypothesis Testing***"
      ],
      "metadata": {
        "id": "g-ATYxFrGrvw"
      }
    },
    {
      "cell_type": "markdown",
      "source": [
        "### Based on your chart experiments, define three hypothetical statements from the dataset. In the next three questions, perform hypothesis testing to obtain final conclusion about the statements through your code and statistical testing."
      ],
      "metadata": {
        "id": "Yfr_Vlr8HBkt"
      }
    },
    {
      "cell_type": "markdown",
      "source": [
        "Hypothetical Statement 1 :--- The average \"seat_comfort\" rating is different among different traveler types.\n",
        "\n",
        "Hypothetical Statement 2 :--- There is a correlation between \"value_for_money\" and \"seat_comfort\" ratings.\n",
        "\n",
        "Hypothetical Statement 3 :--- The distribution of \"overall\" ratings is significantly different for recommended and not recommended reviews."
      ],
      "metadata": {
        "id": "-7MS06SUHkB-"
      }
    },
    {
      "cell_type": "markdown",
      "source": [
        "### Hypothetical Statement - 1 --- Average \"seat_comfort\" rating among different traveler types"
      ],
      "metadata": {
        "id": "8yEUt7NnHlrM"
      }
    },
    {
      "cell_type": "markdown",
      "source": [
        "#### 1. State Your research hypothesis as a null hypothesis and alternate hypothesis."
      ],
      "metadata": {
        "id": "tEA2Xm5dHt1r"
      }
    },
    {
      "cell_type": "markdown",
      "source": [
        "Null Hypothesis (H0) :--- The average \"seat_comfort\" rating is the same among all traveler types.\n",
        "\n",
        "Alternative Hypothesis (H1) :--- The average \"seat_comfort\" rating is different among different traveler types."
      ],
      "metadata": {
        "id": "HI9ZP0laH0D-"
      }
    },
    {
      "cell_type": "markdown",
      "source": [
        "#### 2. Perform an appropriate statistical test."
      ],
      "metadata": {
        "id": "I79__PHVH19G"
      }
    },
    {
      "cell_type": "code",
      "source": [
        "# Perform Statistical Test to obtain P-Value\n",
        "\n",
        "import scipy.stats as stats\n",
        "\n",
        "traveler_types = data_airline_reviews_df['traveller_type'].unique()\n",
        "\n",
        "for traveler_type in traveler_types:\n",
        "    subset = data_airline_reviews_df[data_airline_reviews_df['traveller_type'] == traveler_type]\n",
        "    sample_data = subset['seat_comfort']\n",
        "    t_statistic, p_value = stats.ttest_1samp(sample_data, data_airline_reviews_df['seat_comfort'].mean())\n",
        "\n",
        "    print(f\"Traveler Type: {traveler_type}\")\n",
        "    print(f\"T-statistic: {t_statistic:.4f}\")\n",
        "    print(f\"P-value: {p_value:.4f}\")\n",
        "\n",
        "    if p_value < 0.05:\n",
        "        print(\"Reject Null Hypothesis: Average seat_comfort rating is different.\")\n",
        "    else:\n",
        "        print(\"Fail to Reject Null Hypothesis: Average seat_comfort rating is the same.\")\n",
        "\n",
        "    print(\"=\" * 40)\n"
      ],
      "metadata": {
        "id": "oZrfquKtyian"
      },
      "execution_count": null,
      "outputs": []
    },
    {
      "cell_type": "markdown",
      "source": [
        "##### Which statistical test have you done to obtain P-Value?"
      ],
      "metadata": {
        "id": "Ou-I18pAyIpj"
      }
    },
    {
      "cell_type": "markdown",
      "source": [
        "\n",
        "In the provided code, you have used the t-test to obtain the p-value. Specifically, you used the 'stats.ttest_1samp' function from the 'scipy.stats' module to perform the t-test. This test is suitable for assessing whether the average (mean) \"seat_comfort\" rating for each traveler type is significantly different from the overall mean \"seat_comfort\" rating across all traveler types. The obtained p-values help you determine whether these differences are statistically significant.\n",
        "\n",
        "In summary, the statistical test you used is the one-sample t-test to compare the means of \"seat_comfort\" ratings between different traveler types and the overall mean.\n",
        "\n",
        "\n",
        "\n",
        "\n"
      ],
      "metadata": {
        "id": "s2U0kk00ygSB"
      }
    },
    {
      "cell_type": "markdown",
      "source": [
        "##### Why did you choose the specific statistical test?"
      ],
      "metadata": {
        "id": "fF3858GYyt-u"
      }
    },
    {
      "cell_type": "markdown",
      "source": [
        "The specific statistical test chosen, the one-sample t-test, is appropriate for comparing the means of \"seat_comfort\" ratings between different traveler types and the overall mean. This test helps determine if the observed differences in average ratings are likely due to true differences or random chance."
      ],
      "metadata": {
        "id": "HO4K0gP5y3B4"
      }
    },
    {
      "cell_type": "markdown",
      "source": [
        "### Hypothetical Statement - 2 --- Correlation between \"value_for_money\" and \"seat_comfort\" ratings"
      ],
      "metadata": {
        "id": "4_0_7-oCpUZd"
      }
    },
    {
      "cell_type": "markdown",
      "source": [
        "#### 1. State Your research hypothesis as a null hypothesis and alternate hypothesis."
      ],
      "metadata": {
        "id": "hwyV_J3ipUZe"
      }
    },
    {
      "cell_type": "markdown",
      "source": [
        "Null Hypothesis (H0): There is no correlation between \"value_for_money\" and \"seat_comfort\" ratings.\n",
        "Alternative Hypothesis (H1): There is a correlation between \"value_for_money\" and \"seat_comfort\" ratings."
      ],
      "metadata": {
        "id": "FnpLGJ-4pUZe"
      }
    },
    {
      "cell_type": "markdown",
      "source": [
        "#### 2. Perform an appropriate statistical test."
      ],
      "metadata": {
        "id": "3yB-zSqbpUZe"
      }
    },
    {
      "cell_type": "code",
      "source": [
        "correlation = data_airline_reviews_df[['value_for_money', 'seat_comfort']].corr()\n",
        "\n",
        "correlation_coefficient = correlation.loc['value_for_money', 'seat_comfort']\n",
        "\n",
        "p_value = stats.pearsonr(data_airline_reviews_df['value_for_money'], data_airline_reviews_df['seat_comfort'])[1]\n",
        "\n",
        "print(\"Correlation Matrix:\")\n",
        "print(correlation)\n",
        "\n",
        "print(f\"Correlation Coefficient: {correlation_coefficient:.4f}\")\n",
        "print(f\"P-value: {p_value:.4f}\")"
      ],
      "metadata": {
        "id": "sWxdNTXNpUZe"
      },
      "execution_count": null,
      "outputs": []
    },
    {
      "cell_type": "markdown",
      "source": [
        "##### Which statistical test have you done to obtain P-Value?"
      ],
      "metadata": {
        "id": "dEUvejAfpUZe"
      }
    },
    {
      "cell_type": "markdown",
      "source": [
        "he stats.pearsonr function from the scipy.stats module is indeed used to perform the Pearson correlation coefficient significance test. The p-value obtained from this function is a result of the Pearson correlation coefficient test, which assesses whether the correlation between \"value_for_money\" and \"seat_comfort\" ratings is statistically significant.  "
      ],
      "metadata": {
        "id": "oLDrPz7HpUZf"
      }
    },
    {
      "cell_type": "markdown",
      "source": [
        "##### Why did you choose the specific statistical test?"
      ],
      "metadata": {
        "id": "Fd15vwWVpUZf"
      }
    },
    {
      "cell_type": "markdown",
      "source": [
        "The specific statistical test chosen, the Pearson correlation coefficient test, is suitable when investigating whether there is a linear relationship between two continuous variables, like \"value_for_money\" and \"seat_comfort\" ratings. This test assesses both the strength and significance of this potential relationship."
      ],
      "metadata": {
        "id": "4xOGYyiBpUZf"
      }
    },
    {
      "cell_type": "markdown",
      "source": [
        "### Hypothetical Statement - 3 --- Distribution of \"overall\" ratings for recommended and not recommended reviews"
      ],
      "metadata": {
        "id": "bn_IUdTipZyH"
      }
    },
    {
      "cell_type": "markdown",
      "source": [
        "#### 1. State Your research hypothesis as a null hypothesis and alternate hypothesis."
      ],
      "metadata": {
        "id": "49K5P_iCpZyH"
      }
    },
    {
      "cell_type": "markdown",
      "source": [
        "Null Hypothesis (H0) :--- The distribution of \"overall\" ratings is the same for recommended and not recommended reviews.\n",
        "Alternative Hypothesis (H1) :--- The distribution of \"overall\" ratings is significantly different for recommended and not recommended reviews."
      ],
      "metadata": {
        "id": "7gWI5rT9pZyH"
      }
    },
    {
      "cell_type": "markdown",
      "source": [
        "#### 2. Perform an appropriate statistical test."
      ],
      "metadata": {
        "id": "Nff-vKELpZyI"
      }
    },
    {
      "cell_type": "code",
      "source": [
        "# Perform Statistical Test to obtain P-Value\n",
        "recommended_ratings = data_airline_reviews_df[data_airline_reviews_df['recommended'] == 'yes']['overall']\n",
        "not_recommended_ratings = data_airline_reviews_df[data_airline_reviews_df['recommended'] == 'no']['overall']\n",
        "\n",
        "t_statistic, p_value = stats.ttest_ind(recommended_ratings, not_recommended_ratings)\n",
        "\n",
        "print(\"T-Test Results:\")\n",
        "print(f\"T-statistic: {t_statistic:.4f}\")\n",
        "print(f\"P-value: {p_value:.4f}\")\n",
        "\n",
        "if p_value < 0.05:\n",
        "    print(\"Reject Null Hypothesis: Distribution of overall ratings is different for recommended and not recommended reviews.\")\n",
        "else:\n",
        "    print(\"Fail to Reject Null Hypothesis: Distribution of overall ratings is the same for recommended and not recommended reviews.\")\n"
      ],
      "metadata": {
        "id": "s6AnJQjtpZyI"
      },
      "execution_count": null,
      "outputs": []
    },
    {
      "cell_type": "markdown",
      "source": [
        "##### Which statistical test have you done to obtain P-Value?"
      ],
      "metadata": {
        "id": "kLW572S8pZyI"
      }
    },
    {
      "cell_type": "markdown",
      "source": [
        "In the provided code, you have used the independent two-sample t-test to obtain the p-value. Specifically, you used the 'stats.ttest_ind' function from the 'scipy.stats' module to perform the t-test. This test is suitable for comparing the means of \"overall\" ratings between recommended and not recommended reviews. The obtained p-value helps you determine whether these differences in means are statistically significant.\n",
        "\n",
        "In summary, the statistical test you used is the independent two-sample t-test to compare the means of \"overall\" ratings between recommended and not recommended reviews."
      ],
      "metadata": {
        "id": "ytWJ8v15pZyI"
      }
    },
    {
      "cell_type": "markdown",
      "source": [
        "##### Why did you choose the specific statistical test?"
      ],
      "metadata": {
        "id": "dWbDXHzopZyI"
      }
    },
    {
      "cell_type": "markdown",
      "source": [
        "The specific statistical test chosen, the independent two-sample t-test, is appropriate for comparing the means of \"overall\" ratings between two groups: recommended and not recommended reviews. This test assesses whether the observed differences in average ratings are likely due to actual differences or random variability."
      ],
      "metadata": {
        "id": "M99G98V6pZyI"
      }
    },
    {
      "cell_type": "markdown",
      "source": [
        "## ***6. Feature Engineering & Data Pre-processing***"
      ],
      "metadata": {
        "id": "yLjJCtPM0KBk"
      }
    },
    {
      "cell_type": "markdown",
      "source": [
        "### 1. Handling Missing Values"
      ],
      "metadata": {
        "id": "xiyOF9F70UgQ"
      }
    },
    {
      "cell_type": "code",
      "source": [
        "# Handling Missing Values & Missing Value Imputation\n",
        "# Convert 'review_date' to datetime\n",
        "data_airline_reviews_df['review_date'] = pd.to_datetime(data_airline_reviews_df['review_date'])\n",
        "data_airline_reviews_df['date_flown'] = pd.to_datetime(data_airline_reviews_df['date_flown'])\n",
        "\n",
        "# Define columns for imputation\n",
        "numeric_columns = ['overall', 'seat_comfort', 'cabin_service', 'food_bev', 'entertainment',\n",
        "                   'ground_service', 'value_for_money']\n",
        "categorical_columns = ['airline', 'traveller_type', 'cabin', 'route', 'recommended']\n",
        "\n",
        "# Mean imputation for numerical columns\n",
        "data_airline_reviews_df[numeric_columns] = data_airline_reviews_df[numeric_columns].fillna(data_airline_reviews_df[numeric_columns].mean())\n",
        "\n",
        "# Mode imputation for categorical columns\n",
        "data_airline_reviews_df[categorical_columns] = data_airline_reviews_df[categorical_columns].apply(lambda x: x.fillna(x.mode()[0]))\n",
        "\n",
        "# Display the results\n",
        "print(data_airline_reviews_df)"
      ],
      "metadata": {
        "id": "iRsAHk1K0fpS"
      },
      "execution_count": null,
      "outputs": []
    },
    {
      "cell_type": "markdown",
      "source": [
        "#### What all missing value imputation techniques have you used and why did you use those techniques?"
      ],
      "metadata": {
        "id": "7wuGOrhz0itI"
      }
    },
    {
      "cell_type": "markdown",
      "source": [
        "\n",
        "I used mean imputation for numerical columns and mode imputation for categorical columns. Mean imputation replaces missing numerical values with the column's mean, preserving central tendency. Mode imputation fills missing categorical values with the most common category, maintaining category distribution. These simple methods are commonly used for unbiased handling of missing data.\n",
        "\n",
        "\n",
        "\n",
        "\n"
      ],
      "metadata": {
        "id": "1ixusLtI0pqI"
      }
    },
    {
      "cell_type": "markdown",
      "source": [
        "### 2. Handling Outliers"
      ],
      "metadata": {
        "id": "id1riN9m0vUs"
      }
    },
    {
      "cell_type": "code",
      "source": [
        "# Handling Outliers & Outlier treatments\n",
        "# Numeric columns for outlier detection\n",
        "numeric_columns = ['overall', 'seat_comfort', 'cabin_service', 'food_bev', 'entertainment',\n",
        "                   'ground_service', 'value_for_money']\n",
        "\n",
        "# Calculate z-scores for numeric columns\n",
        "z_scores = np.abs((data_airline_reviews_df[numeric_columns] - data_airline_reviews_df[numeric_columns].mean()) / data_airline_reviews_df[numeric_columns].std())\n",
        "\n",
        "# Keep rows where z-score is less than a threshold (e.g., 3)\n",
        "outlier_threshold = 3\n",
        "data_airline_reviews_df_cleaned = data_airline_reviews_df[(z_scores < outlier_threshold).all(axis=1)]\n",
        "\n",
        "# Display the results\n",
        "print(\"Original DataFrame:\")\n",
        "print(data_airline_reviews_df[numeric_columns].head())\n",
        "print(\"\\nCleaned DataFrame (Outliers Removed):\")\n",
        "print(data_airline_reviews_df_cleaned[numeric_columns].head())"
      ],
      "metadata": {
        "id": "M6w2CzZf04JK"
      },
      "execution_count": null,
      "outputs": []
    },
    {
      "cell_type": "code",
      "source": [
        "# Numeric columns for outlier detection\n",
        "numeric_columns = ['overall', 'seat_comfort', 'cabin_service', 'food_bev', 'entertainment',\n",
        "                   'ground_service', 'value_for_money']\n",
        "\n",
        "# Calculate z-scores for numeric columns\n",
        "z_scores = np.abs((data_airline_reviews_df[numeric_columns] - data_airline_reviews_df[numeric_columns].mean()) / data_airline_reviews_df[numeric_columns].std())\n",
        "\n",
        "# Check if any z-score is greater than a threshold (e.g., 3)\n",
        "z_score_threshold = 3\n",
        "outliers_present = (z_scores > z_score_threshold).any().any()\n",
        "\n",
        "if outliers_present:\n",
        "    print(\"Outliers are present in the numeric columns.\")\n",
        "else:\n",
        "    print(\"No outliers are present in the numeric columns.\")"
      ],
      "metadata": {
        "id": "Tllt2eI50EMV"
      },
      "execution_count": null,
      "outputs": []
    },
    {
      "cell_type": "markdown",
      "source": [
        "##### What all outlier treatment techniques have you used and why did you use those techniques?"
      ],
      "metadata": {
        "id": "578E2V7j08f6"
      }
    },
    {
      "cell_type": "markdown",
      "source": [
        "I used the z-score outlier treatment technique to identify and remove outliers. Z-score measures how far a data point is from the mean in terms of standard deviations. I chose this technique because it's based on statistical principles and helps detect extreme values that might distort analysis. A threshold of 3 was used to determine outliers, and rows exceeding this threshold were removed from the dataset."
      ],
      "metadata": {
        "id": "uGZz5OrT1HH-"
      }
    },
    {
      "cell_type": "markdown",
      "source": [
        "### 3. Categorical Encoding"
      ],
      "metadata": {
        "id": "89xtkJwZ18nB"
      }
    },
    {
      "cell_type": "code",
      "source": [
        "# Encode your categorical columns\n",
        "# Select categorical columns for encoding\n",
        "categorical_columns = ['airline', 'traveller_type', 'cabin', 'route', 'recommended']\n",
        "\n",
        "# Perform one-hot encoding using pandas' get_dummies function\n",
        "encoded_data = pd.get_dummies(data_airline_reviews_df, columns=categorical_columns, drop_first=True)\n",
        "\n",
        "# Display the encoded data\n",
        "print(encoded_data.head())"
      ],
      "metadata": {
        "id": "21JmIYMG2hEo"
      },
      "execution_count": null,
      "outputs": []
    },
    {
      "cell_type": "markdown",
      "source": [
        "#### What all categorical encoding techniques have you used & why did you use those techniques?"
      ],
      "metadata": {
        "id": "67NQN5KX2AMe"
      }
    },
    {
      "cell_type": "markdown",
      "source": [
        "I used one-hot encoding for categorical variables. One-hot encoding is chosen for its ability to preserve distinct categories, avoid ordinal bias, and make categorical data compatible with machine learning algorithms. It also helps avoid multicollinearity by dropping one encoded column per category."
      ],
      "metadata": {
        "id": "UDaue5h32n_G"
      }
    },
    {
      "cell_type": "markdown",
      "source": [
        "### 4. Textual Data Preprocessing\n",
        "(It's mandatory for textual dataset i.e., NLP, Sentiment Analysis, Text Clustering etc.)"
      ],
      "metadata": {
        "id": "Iwf50b-R2tYG"
      }
    },
    {
      "cell_type": "markdown",
      "source": [
        "#### 1. Expand Contraction"
      ],
      "metadata": {
        "id": "GMQiZwjn3iu7"
      }
    },
    {
      "cell_type": "code",
      "source": [
        "# Expand Contraction\n",
        "import re\n",
        "# Define a dictionary of common contractions and their expansions\n",
        "contraction_mapping = {\n",
        "    \"ain't\": \"is not\",\n",
        "    \"aren't\": \"are not\",\n",
        "    \"can't\": \"cannot\",\n",
        "    \"could've\": \"could have\",\n",
        "    # Add more contractions and expansions here\n",
        "}\n",
        "\n",
        "# Function to expand contractions\n",
        "def expand_contractions(text, contraction_mapping):\n",
        "    contraction_pattern = re.compile('({})'.format('|'.join(contraction_mapping.keys())), flags=re.IGNORECASE|re.DOTALL)\n",
        "\n",
        "    def expand_match(contraction):\n",
        "        match = contraction.group(0)\n",
        "        expanded = contraction_mapping.get(match.lower())\n",
        "        return expanded\n",
        "\n",
        "    expanded_text = contraction_pattern.sub(expand_match, text)\n",
        "    return expanded_text\n",
        "\n",
        "# Apply contraction expansion to 'customer_review' column\n",
        "data_airline_reviews_df['expanded_review'] = data_airline_reviews_df['customer_review'].apply(lambda x: expand_contractions(x, contraction_mapping))\n",
        "\n",
        "# Display the expanded text\n",
        "print(data_airline_reviews_df[['customer_review', 'expanded_review']].head())"
      ],
      "metadata": {
        "id": "PTouz10C3oNN"
      },
      "execution_count": null,
      "outputs": []
    },
    {
      "cell_type": "markdown",
      "source": [
        "#### 2. Lower Casing"
      ],
      "metadata": {
        "id": "WVIkgGqN3qsr"
      }
    },
    {
      "cell_type": "code",
      "source": [
        "# Lower Casing\n",
        "# Apply lowercasing to 'customer_review' column\n",
        "data_airline_reviews_df['lowercased_review'] = data_airline_reviews_df['customer_review'].apply(lambda x: x.lower())\n",
        "\n",
        "# Display the lowercased text\n",
        "print(data_airline_reviews_df[['customer_review', 'lowercased_review']].head())"
      ],
      "metadata": {
        "id": "88JnJ1jN3w7j"
      },
      "execution_count": null,
      "outputs": []
    },
    {
      "cell_type": "markdown",
      "source": [
        "#### 3. Removing Punctuations"
      ],
      "metadata": {
        "id": "XkPnILGE3zoT"
      }
    },
    {
      "cell_type": "code",
      "source": [
        "# Remove Punctuations\n",
        "import string\n",
        "# Function to remove punctuations from text\n",
        "def remove_punctuation(text):\n",
        "    # Create a translation table to remove punctuations\n",
        "    translator = str.maketrans('', '', string.punctuation)\n",
        "\n",
        "    # Use the translation table to remove punctuations\n",
        "    no_punct_text = text.translate(translator)\n",
        "    return no_punct_text\n",
        "\n",
        "# Apply punctuation removal to 'customer_review' column\n",
        "data_airline_reviews_df['no_punct_review'] = data_airline_reviews_df['customer_review'].apply(remove_punctuation)\n",
        "\n",
        "# Display the text with punctuations removed\n",
        "print(data_airline_reviews_df[['customer_review', 'no_punct_review']].head())"
      ],
      "metadata": {
        "id": "vqbBqNaA33c0"
      },
      "execution_count": null,
      "outputs": []
    },
    {
      "cell_type": "markdown",
      "source": [
        "#### 4. Removing URLs & Removing words and digits contain digits."
      ],
      "metadata": {
        "id": "Hlsf0x5436Go"
      }
    },
    {
      "cell_type": "code",
      "source": [
        "# Remove URLs & Remove words and digits contain digits\n",
        "# Function to remove URLs from text\n",
        "def remove_urls(text):\n",
        "    cleaned_text = re.sub(r'http\\S+', '', text)  # Remove URLs starting with http\n",
        "    return cleaned_text\n",
        "\n",
        "# Function to remove words and digits containing digits\n",
        "def remove_words_with_digits(text):\n",
        "    cleaned_text = ' '.join([word for word in text.split() if not any(char.isdigit() for char in word)])\n",
        "    return cleaned_text\n",
        "\n",
        "# Apply URL removal and removing words with digits to 'customer_review' column\n",
        "data_airline_reviews_df['cleaned_review'] = data_airline_reviews_df['customer_review'].apply(remove_urls)\n",
        "data_airline_reviews_df['cleaned_review'] = data_airline_reviews_df['cleaned_review'].apply(remove_words_with_digits)"
      ],
      "metadata": {
        "id": "2sxKgKxu4Ip3"
      },
      "execution_count": null,
      "outputs": []
    },
    {
      "cell_type": "markdown",
      "source": [
        "#### 5. Removing Stopwords & Removing White spaces"
      ],
      "metadata": {
        "id": "mT9DMSJo4nBL"
      }
    },
    {
      "cell_type": "code",
      "source": [
        "# Remove Stopwords\n",
        "import nltk\n",
        "from nltk.corpus import stopwords\n",
        "nltk.download('stopwords')\n",
        "\n",
        "# Set up stopwords\n",
        "stop_words = set(stopwords.words('english'))\n",
        "\n",
        "# Function to remove stopwords from text\n",
        "def remove_stopwords(text):\n",
        "    tokens = text.split()\n",
        "    filtered_tokens = [word for word in tokens if word.lower() not in stop_words]\n",
        "    return ' '.join(filtered_tokens)\n",
        "\n",
        "# Apply stopwords removal to 'customer_review' column\n",
        "data_airline_reviews_df['no_stopwords_review'] = data_airline_reviews_df['customer_review'].apply(remove_stopwords)\n",
        "\n",
        "# Display the text with stopwords removed\n",
        "print(data_airline_reviews_df[['customer_review', 'no_stopwords_review']].head())"
      ],
      "metadata": {
        "id": "T2LSJh154s8W"
      },
      "execution_count": null,
      "outputs": []
    },
    {
      "cell_type": "code",
      "source": [
        "# Remove White spaces\n",
        "# Function to remove extra white spaces from text\n",
        "def remove_extra_spaces(text):\n",
        "    cleaned_text = ' '.join(text.split())\n",
        "    return cleaned_text\n",
        "\n",
        "# Apply space removal to 'customer_review' column\n",
        "data_airline_reviews_df['cleaned_review'] = data_airline_reviews_df['customer_review'].apply(remove_extra_spaces)\n",
        "\n",
        "# Display the text with extra spaces removed\n",
        "print(data_airline_reviews_df[['customer_review', 'cleaned_review']].head())"
      ],
      "metadata": {
        "id": "EgLJGffy4vm0"
      },
      "execution_count": null,
      "outputs": []
    },
    {
      "cell_type": "markdown",
      "source": [
        "#### 6. Rephrase Text"
      ],
      "metadata": {
        "id": "c49ITxTc407N"
      }
    },
    {
      "cell_type": "code",
      "source": [
        "!pip install simpleneighbors\n",
        "!pip install transformers\n",
        "!pip install sentencepiece"
      ],
      "metadata": {
        "id": "HFghOnbB24Uo"
      },
      "execution_count": null,
      "outputs": []
    },
    {
      "cell_type": "code",
      "source": [
        "import nltk\n",
        "nltk.download('punkt')"
      ],
      "metadata": {
        "id": "4uHEXhZM5nYe"
      },
      "execution_count": null,
      "outputs": []
    },
    {
      "cell_type": "code",
      "source": [
        "# Rephrase Text\n",
        "from nltk.tokenize import sent_tokenize, word_tokenize\n",
        "import random\n",
        "\n",
        "\n",
        "# Function to rephrase text using NLTK tokenizer\n",
        "def rephrase_text(text):\n",
        "    sentences = sent_tokenize(text)\n",
        "    tokenized_sentences = [word_tokenize(sentence) for sentence in sentences]\n",
        "    rephrased_tokens = [random.choice(tokens) for tokens in tokenized_sentences]\n",
        "    rephrased_text = ' '.join(rephrased_tokens)\n",
        "    return rephrased_text\n",
        "\n",
        "# Apply rephrasing to a specific review\n",
        "original_review = \"The flight experience was amazing!\"\n",
        "rephrased_review = rephrase_text(original_review)\n",
        "\n",
        "print(f\"Original Review: {original_review}\")\n",
        "print(f\"Rephrased Review: {rephrased_review}\")\n"
      ],
      "metadata": {
        "id": "foqY80Qu48N2"
      },
      "execution_count": null,
      "outputs": []
    },
    {
      "cell_type": "markdown",
      "source": [
        "#### 7. Tokenization"
      ],
      "metadata": {
        "id": "OeJFEK0N496M"
      }
    },
    {
      "cell_type": "code",
      "source": [
        "# Tokenization\n",
        "import nltk\n",
        "from nltk.tokenize import word_tokenize\n",
        "\n",
        "\n",
        "# Function to tokenize text using NLTK\n",
        "def tokenize_text(text):\n",
        "    tokens = word_tokenize(text)\n",
        "    return tokens\n",
        "\n",
        "# Apply tokenization to 'customer_review' column\n",
        "data_airline_reviews_df['tokenized_review'] = data_airline_reviews_df['customer_review'].apply(tokenize_text)\n",
        "\n",
        "# Display the tokenized text\n",
        "print(data_airline_reviews_df[['customer_review', 'tokenized_review']].head())"
      ],
      "metadata": {
        "id": "ijx1rUOS5CUU"
      },
      "execution_count": null,
      "outputs": []
    },
    {
      "cell_type": "markdown",
      "source": [
        "#### 8. Text Normalization"
      ],
      "metadata": {
        "id": "9ExmJH0g5HBk"
      }
    },
    {
      "cell_type": "code",
      "source": [
        "nltk.download('wordnet')"
      ],
      "metadata": {
        "id": "rmk8DXo66SqD"
      },
      "execution_count": null,
      "outputs": []
    },
    {
      "cell_type": "code",
      "source": [
        "# Normalizing Text (i.e., Stemming, Lemmatization etc.)\n",
        "from nltk.stem import PorterStemmer, WordNetLemmatizer\n",
        "# Initialize stemmer and lemmatizer\n",
        "stemmer = PorterStemmer()\n",
        "lemmatizer = WordNetLemmatizer()\n",
        "\n",
        "# Function to perform stemming on a word\n",
        "def stem_word(word):\n",
        "    return stemmer.stem(word)\n",
        "\n",
        "# Function to perform lemmatization on a word\n",
        "def lemmatize_word(word):\n",
        "    return lemmatizer.lemmatize(word, pos='v')  # 'v' indicates verb\n",
        "\n",
        "# Function to normalize text using stemming and lemmatization\n",
        "def normalize_text(text):\n",
        "    tokens = word_tokenize(text)\n",
        "    stemmed_tokens = [stem_word(token) for token in tokens]\n",
        "    lemmatized_tokens = [lemmatize_word(token) for token in stemmed_tokens]\n",
        "    normalized_text = ' '.join(lemmatized_tokens)\n",
        "    return normalized_text\n",
        "\n",
        "# Apply text normalization to 'customer_review' column\n",
        "data_airline_reviews_df['normalized_review'] = data_airline_reviews_df['customer_review'].apply(normalize_text)\n",
        "\n",
        "# Display the normalized text\n",
        "print(data_airline_reviews_df[['customer_review', 'normalized_review']].head())"
      ],
      "metadata": {
        "id": "AIJ1a-Zc5PY8"
      },
      "execution_count": null,
      "outputs": []
    },
    {
      "cell_type": "markdown",
      "source": [
        "##### Which text normalization technique have you used and why?"
      ],
      "metadata": {
        "id": "cJNqERVU536h"
      }
    },
    {
      "cell_type": "markdown",
      "source": [
        "\n",
        "I used both stemming and lemmatization for text normalization. I chose them based on the following reasons :---\n",
        "\n",
        "\n",
        "* Stemming :--- I used stemming (specifically, the Porter stemming algorithm) to simplify words to their root forms, which can help reduce variations. However, stemming might create non-real words.\n",
        "* Lemmatization :--- I also used lemmatization (using the WordNet lemmatizer) to ensure valid words. It considers context and part of speech for better accuracy compared to stemming.\n",
        "\n"
      ],
      "metadata": {
        "id": "Z9jKVxE06BC1"
      }
    },
    {
      "cell_type": "markdown",
      "source": [
        "#### 9. Part of speech tagging"
      ],
      "metadata": {
        "id": "k5UmGsbsOxih"
      }
    },
    {
      "cell_type": "code",
      "source": [
        "# POS Taging\n",
        "nltk.download('averaged_perceptron_tagger')\n",
        "\n",
        "# Function to perform POS tagging on text\n",
        "def pos_tagging(text):\n",
        "    tokens = word_tokenize(text)\n",
        "    pos_tags = nltk.pos_tag(tokens)\n",
        "    return pos_tags\n",
        "\n",
        "# Apply POS tagging to 'customer_review' column\n",
        "data_airline_reviews_df['pos_tags'] = data_airline_reviews_df['customer_review'].apply(pos_tagging)\n",
        "\n",
        "# Display the POS tags\n",
        "print(data_airline_reviews_df[['customer_review', 'pos_tags']].head())"
      ],
      "metadata": {
        "id": "btT3ZJBAO6Ik"
      },
      "execution_count": null,
      "outputs": []
    },
    {
      "cell_type": "markdown",
      "source": [
        "#### 10. Text Vectorization"
      ],
      "metadata": {
        "id": "T0VqWOYE6DLQ"
      }
    },
    {
      "cell_type": "code",
      "source": [
        "# Vectorizing Text\n",
        "from sklearn.feature_extraction.text import CountVectorizer, TfidfVectorizer\n",
        "\n",
        "# Create a list of customer reviews\n",
        "customer_reviews = data_airline_reviews_df['customer_review'].tolist()\n",
        "\n",
        "# Initialize vectorizers\n",
        "count_vectorizer = CountVectorizer()\n",
        "tfidf_vectorizer = TfidfVectorizer()\n",
        "\n",
        "# Vectorize text using CountVectorizer\n",
        "count_vectors = count_vectorizer.fit_transform(customer_reviews)\n",
        "\n",
        "# Vectorize text using TfidfVectorizer\n",
        "tfidf_vectors = tfidf_vectorizer.fit_transform(customer_reviews)\n",
        "\n",
        "# Display the dimensions of the vectorized matrices\n",
        "print(\"Count Vectorizer:\")\n",
        "print(count_vectors.shape)\n",
        "\n",
        "print(\"\\nTF-IDF Vectorizer:\")\n",
        "print(tfidf_vectors.shape)"
      ],
      "metadata": {
        "id": "yBRtdhth6JDE"
      },
      "execution_count": null,
      "outputs": []
    },
    {
      "cell_type": "markdown",
      "source": [
        "##### Which text vectorization technique have you used and why?"
      ],
      "metadata": {
        "id": "qBMux9mC6MCf"
      }
    },
    {
      "cell_type": "markdown",
      "source": [
        "I used both Count Vectorization and TF-IDF Vectorization techniques.\n",
        "\n",
        "\n",
        "* Count Vectorization :--- Captures word frequency in documents, suitable for tasks like text classification.\n",
        "* TF-IDF Vectorization :--- Considers word importance in documents and across the corpus, useful for information retrieval and text summarization.\n",
        "\n",
        "\n"
      ],
      "metadata": {
        "id": "su2EnbCh6UKQ"
      }
    },
    {
      "cell_type": "markdown",
      "source": [
        "### 4. Feature Manipulation & Selection"
      ],
      "metadata": {
        "id": "-oLEiFgy-5Pf"
      }
    },
    {
      "cell_type": "markdown",
      "source": [
        "#### 1. Feature Manipulation"
      ],
      "metadata": {
        "id": "C74aWNz2AliB"
      }
    },
    {
      "cell_type": "code",
      "source": [
        "# Manipulate Features to minimize feature correlation and create new features\n",
        "# Create a new feature 'avg_rating' by aggregating ratings\n",
        "rating_columns = ['seat_comfort', 'cabin_service', 'food_bev', 'entertainment', 'ground_service', 'value_for_money']\n",
        "data_airline_reviews_df['avg_rating'] = data_airline_reviews_df[rating_columns].mean(axis=1)\n",
        "\n",
        "# Display the dataset with the new feature\n",
        "print(data_airline_reviews_df[['customer_review', 'avg_rating']].head())"
      ],
      "metadata": {
        "id": "h1qC4yhBApWC"
      },
      "execution_count": null,
      "outputs": []
    },
    {
      "cell_type": "markdown",
      "source": [
        "#### 2. Feature Selection"
      ],
      "metadata": {
        "id": "2DejudWSA-a0"
      }
    },
    {
      "cell_type": "code",
      "source": [
        "# Select your features wisely to avoid overfitting\n",
        "# Select relevant features and target variable\n",
        "selected_features = ['seat_comfort', 'cabin_service', 'food_bev', 'entertainment', 'ground_service']\n",
        "X = data_airline_reviews_df[selected_features]\n",
        "y = data_airline_reviews_df['recommended']\n",
        "\n",
        "# Initialize a Random Forest model\n",
        "model = RandomForestClassifier()\n",
        "\n",
        "# Fit the model and assess feature importance\n",
        "model.fit(X, y)\n",
        "feature_importance = model.feature_importances_\n",
        "\n",
        "# Display feature importance scores\n",
        "for feature, importance in zip(selected_features, feature_importance):\n",
        "    print(f\"{feature}: {importance:.4f}\")"
      ],
      "metadata": {
        "id": "YLhe8UmaBCEE"
      },
      "execution_count": null,
      "outputs": []
    },
    {
      "cell_type": "markdown",
      "source": [
        "##### What all feature selection methods have you used  and why?"
      ],
      "metadata": {
        "id": "pEMng2IbBLp7"
      }
    },
    {
      "cell_type": "markdown",
      "source": [
        "In the provided code, the feature selection method used is Feature Importance with a Random Forest classifier. This method calculates the importance of each feature by measuring its contribution to the model's predictive performance. It's a commonly used technique to identify influential features for decision-making.\n",
        "\n",
        "\n",
        "\n",
        "\n"
      ],
      "metadata": {
        "id": "rb2Lh6Z8BgGs"
      }
    },
    {
      "cell_type": "markdown",
      "source": [
        "##### Which all features you found important and why?"
      ],
      "metadata": {
        "id": "rAdphbQ9Bhjc"
      }
    },
    {
      "cell_type": "markdown",
      "source": [
        "The features found important by the Random Forest model were: 'seat_comfort', 'cabin_service', 'food_bev', 'entertainment', and 'ground_service'. The model likely identified these features as influential for predicting the 'recommended' label based on their impact on the target variable in the dataset."
      ],
      "metadata": {
        "id": "fGgaEstsBnaf"
      }
    },
    {
      "cell_type": "markdown",
      "source": [
        "### 5. Data Transformation"
      ],
      "metadata": {
        "id": "TNVZ9zx19K6k"
      }
    },
    {
      "cell_type": "markdown",
      "source": [
        "#### Do you think that your data needs to be transformed? If yes, which transformation have you used. Explain Why?"
      ],
      "metadata": {
        "id": "nqoHp30x9hH9"
      }
    },
    {
      "cell_type": "markdown",
      "source": [
        "Data transformation might be necessary based on data characteristics and analysis goals. Scaling, normalization, and logarithmic transformations are common. Scaling ensures consistent scales, normalization adjusts distributions, and logarithmic transformation handles skewed data. Choose based on feature distribution and algorithm requirements."
      ],
      "metadata": {
        "id": "J9xeySdu_HNe"
      }
    },
    {
      "cell_type": "code",
      "source": [
        "# Transform Your data\n",
        "from sklearn.preprocessing import MinMaxScaler, StandardScaler\n",
        "\n",
        "# Select features to transform\n",
        "selected_features = ['seat_comfort', 'cabin_service', 'food_bev', 'entertainment', 'ground_service']\n",
        "\n",
        "# Extract selected features\n",
        "X = data_airline_reviews_df[selected_features]\n",
        "\n",
        "# Initialize scalers\n",
        "minmax_scaler = MinMaxScaler()\n",
        "standard_scaler = StandardScaler()\n",
        "\n",
        "# Apply Min-Max scaling\n",
        "X_minmax_scaled = minmax_scaler.fit_transform(X)\n",
        "\n",
        "# Apply Standard scaling\n",
        "X_standard_scaled = standard_scaler.fit_transform(X)\n",
        "\n",
        "# Apply normalization\n",
        "X_normalized = X.apply(lambda col: (col - col.min()) / (col.max() - col.min()))\n",
        "\n",
        "# Apply log transformation\n",
        "X_log_transformed = np.log1p(X)  # Add 1 to avoid log(0)\n",
        "\n",
        "# Display transformed data\n",
        "print(\"Min-Max Scaled Features:\")\n",
        "print(X_minmax_scaled)\n",
        "\n",
        "print(\"\\nStandard Scaled Features:\")\n",
        "print(X_standard_scaled)\n",
        "\n",
        "print(\"\\nNormalized Features:\")\n",
        "print(X_normalized)\n",
        "\n",
        "print(\"\\nLog Transformed Features:\")\n",
        "print(X_log_transformed)"
      ],
      "metadata": {
        "id": "I6quWQ1T9rtH"
      },
      "execution_count": null,
      "outputs": []
    },
    {
      "cell_type": "markdown",
      "source": [
        "### 6. Data Scaling"
      ],
      "metadata": {
        "id": "rMDnDkt2B6du"
      }
    },
    {
      "cell_type": "code",
      "source": [
        "# Scaling your data\n",
        "# Convert scaled arrays back to DataFrame\n",
        "X_minmax_scaled_df = pd.DataFrame(X_minmax_scaled, columns=selected_features)\n",
        "X_standard_scaled_df = pd.DataFrame(X_standard_scaled, columns=selected_features)\n",
        "\n",
        "# Display scaled DataFrames\n",
        "print(\"Min-Max Scaled Features:\")\n",
        "print(X_minmax_scaled_df.head())\n",
        "\n",
        "print(\"\\nStandard Scaled Features:\")\n",
        "print(X_standard_scaled_df.head())"
      ],
      "metadata": {
        "id": "dL9LWpySC6x_"
      },
      "execution_count": null,
      "outputs": []
    },
    {
      "cell_type": "markdown",
      "source": [
        "##### Which method have you used to scale you data and why?"
      ],
      "metadata": {
        "id": "yiiVWRdJDDil"
      }
    },
    {
      "cell_type": "markdown",
      "source": [
        "I used both MinMax Scaling and Standard Scaling methods. MinMax Scaling ensures features are within a specified range, while Standard Scaling makes features have a mean of 0 and standard deviation of 1. Selection depends on preserving distribution (MinMax) or centering around zero (Standard).\n",
        "\n",
        "\n",
        "\n",
        "\n"
      ],
      "metadata": {
        "id": "P3OV1T0RATwu"
      }
    },
    {
      "cell_type": "markdown",
      "source": [
        "### 7. Dimesionality Reduction"
      ],
      "metadata": {
        "id": "1UUpS68QDMuG"
      }
    },
    {
      "cell_type": "markdown",
      "source": [
        "##### Do you think that dimensionality reduction is needed? Explain Why?"
      ],
      "metadata": {
        "id": "kexQrXU-DjzY"
      }
    },
    {
      "cell_type": "markdown",
      "source": [
        "\n",
        "Dimensionality reduction might be needed due to issues like the curse of dimensionality, overfitting, improved interpretability, efficiency, and addressing multicollinearity. It can enhance model performance and interpretability in high-dimensional datasets. The need depends on data complexity and analysis goals."
      ],
      "metadata": {
        "id": "GGRlBsSGDtTQ"
      }
    },
    {
      "cell_type": "code",
      "source": [
        "# DImensionality Reduction (If needed)\n",
        "\n",
        "from sklearn.decomposition import PCA\n",
        "\n",
        "# Select features for dimensionality reduction\n",
        "selected_features = ['seat_comfort', 'cabin_service', 'food_bev', 'entertainment', 'ground_service']\n",
        "\n",
        "# Extract selected features\n",
        "X = data_airline_reviews_df[selected_features]\n",
        "\n",
        "# Initialize PCA with desired number of components\n",
        "num_components = 2\n",
        "pca = PCA(n_components=num_components)\n",
        "\n",
        "# Fit and transform data\n",
        "X_pca = pca.fit_transform(X)\n",
        "\n",
        "# Plot explained variance ratio\n",
        "explained_variance_ratio = pca.explained_variance_ratio_\n",
        "plt.bar(range(1, num_components + 1), explained_variance_ratio)\n",
        "plt.xlabel('Principal Components')\n",
        "plt.ylabel('Explained Variance Ratio')\n",
        "plt.title('Explained Variance Ratio by Principal Components')\n",
        "plt.show()\n",
        "\n",
        "# Display transformed data\n",
        "print(\"PCA Transformed Features:\")\n",
        "print(X_pca)"
      ],
      "metadata": {
        "id": "kQfvxBBHDvCa"
      },
      "execution_count": null,
      "outputs": []
    },
    {
      "cell_type": "markdown",
      "source": [
        "##### Which dimensionality reduction technique have you used and why? (If dimensionality reduction done on dataset.)"
      ],
      "metadata": {
        "id": "T5CmagL3EC8N"
      }
    },
    {
      "cell_type": "markdown",
      "source": [
        "I used Principal Component Analysis (PCA) for dimensionality reduction. It retains variance, ensures orthogonal components, combines features, aids visualization, and improves efficiency in reducing dimensions."
      ],
      "metadata": {
        "id": "ZKr75IDuEM7t"
      }
    },
    {
      "cell_type": "markdown",
      "source": [
        "### 8. Data Splitting"
      ],
      "metadata": {
        "id": "BhH2vgX9EjGr"
      }
    },
    {
      "cell_type": "code",
      "source": [
        "# Split your data to train and test. Choose Splitting ratio wisely.\n",
        "# Select features and target variable\n",
        "selected_features = ['seat_comfort', 'cabin_service', 'food_bev', 'entertainment', 'ground_service']\n",
        "X = data_airline_reviews_df[selected_features]\n",
        "y = data_airline_reviews_df['recommended']\n",
        "\n",
        "# Split the data into training and testing sets\n",
        "test_size = 0.2  # Choose the splitting ratio wisely (e.g., 80% training, 20% testing)\n",
        "random_state = 42  # Seed for reproducibility\n",
        "\n",
        "X_train, X_test, y_train, y_test = train_test_split(X, y, test_size=test_size, random_state=random_state)\n",
        "\n",
        "# Display the sizes of the training and testing sets\n",
        "print(f\"Training set size: {X_train.shape[0]} samples\")\n",
        "print(f\"Testing set size: {X_test.shape[0]} samples\")"
      ],
      "metadata": {
        "id": "0CTyd2UwEyNM"
      },
      "execution_count": null,
      "outputs": []
    },
    {
      "cell_type": "markdown",
      "source": [
        "##### What data splitting ratio have you used and why?"
      ],
      "metadata": {
        "id": "qjKvONjwE8ra"
      }
    },
    {
      "cell_type": "markdown",
      "source": [
        "I used a test data splitting ratio of 0.2 (20% testing data) to strike a balance between having enough data for training and ensuring a reasonable amount for testing. The choice of ratio depends on dataset size, model complexity, and resource availability."
      ],
      "metadata": {
        "id": "Y2lJ8cobFDb_"
      }
    },
    {
      "cell_type": "markdown",
      "source": [
        "### 9. Handling Imbalanced Dataset"
      ],
      "metadata": {
        "id": "P1XJ9OREExlT"
      }
    },
    {
      "cell_type": "markdown",
      "source": [
        "##### Do you think the dataset is imbalanced? Explain Why."
      ],
      "metadata": {
        "id": "VFOzZv6IFROw"
      }
    },
    {
      "cell_type": "markdown",
      "source": [
        "Answer Here."
      ],
      "metadata": {
        "id": "GeKDIv7pFgcC"
      }
    },
    {
      "cell_type": "code",
      "source": [
        "# Handling Imbalanced Dataset (If needed)\n",
        "from imblearn.over_sampling import RandomOverSampler\n",
        "from sklearn.metrics import classification_report\n",
        "\n",
        "# Apply oversampling to handle class imbalance\n",
        "oversampler = RandomOverSampler(random_state=random_state)\n",
        "X_train_resampled, y_train_resampled = oversampler.fit_resample(X_train, y_train)\n",
        "\n",
        "# Train a model on the resampled data\n",
        "model = RandomForestClassifier()\n",
        "model.fit(X_train_resampled, y_train_resampled)\n",
        "\n",
        "# Evaluate the model on the test set\n",
        "y_pred = model.predict(X_test)\n",
        "print(classification_report(y_test, y_pred))"
      ],
      "metadata": {
        "id": "nQsRhhZLFiDs"
      },
      "execution_count": null,
      "outputs": []
    },
    {
      "cell_type": "markdown",
      "source": [
        "##### What technique did you use to handle the imbalance dataset and why? (If needed to be balanced)"
      ],
      "metadata": {
        "id": "TIqpNgepFxVj"
      }
    },
    {
      "cell_type": "markdown",
      "source": [
        "I used oversampling with the RandomOverSampler technique to handle the imbalanced dataset. It involves generating synthetic samples for the minority class, helping to balance the class distribution and prevent data loss."
      ],
      "metadata": {
        "id": "qbet1HwdGDTz"
      }
    },
    {
      "cell_type": "markdown",
      "source": [
        "## ***7. ML Model Implementation***"
      ],
      "metadata": {
        "id": "VfCC591jGiD4"
      }
    },
    {
      "cell_type": "markdown",
      "source": [
        "### ML Model - 1"
      ],
      "metadata": {
        "id": "OB4l2ZhMeS1U"
      }
    },
    {
      "cell_type": "code",
      "source": [
        "# ML Model - 1 Implementation\n",
        "\n",
        "# Fit the Algorithm\n",
        "\n",
        "# Predict on the model"
      ],
      "metadata": {
        "id": "7ebyywQieS1U"
      },
      "execution_count": null,
      "outputs": []
    },
    {
      "cell_type": "markdown",
      "source": [
        "#### 1. Explain the ML Model used and it's performance using Evaluation metric Score Chart."
      ],
      "metadata": {
        "id": "ArJBuiUVfxKd"
      }
    },
    {
      "cell_type": "code",
      "source": [
        "# Visualizing evaluation Metric Score chart"
      ],
      "metadata": {
        "id": "rqD5ZohzfxKe"
      },
      "execution_count": null,
      "outputs": []
    },
    {
      "cell_type": "markdown",
      "source": [
        "#### 2. Cross- Validation & Hyperparameter Tuning"
      ],
      "metadata": {
        "id": "4qY1EAkEfxKe"
      }
    },
    {
      "cell_type": "code",
      "source": [
        "# ML Model - 1 Implementation with hyperparameter optimization techniques (i.e., GridSearch CV, RandomSearch CV, Bayesian Optimization etc.)\n",
        "\n",
        "# Fit the Algorithm\n",
        "\n",
        "# Predict on the model"
      ],
      "metadata": {
        "id": "Dy61ujd6fxKe"
      },
      "execution_count": null,
      "outputs": []
    },
    {
      "cell_type": "markdown",
      "source": [
        "##### Which hyperparameter optimization technique have you used and why?"
      ],
      "metadata": {
        "id": "PiV4Ypx8fxKe"
      }
    },
    {
      "cell_type": "markdown",
      "source": [
        "Answer Here."
      ],
      "metadata": {
        "id": "negyGRa7fxKf"
      }
    },
    {
      "cell_type": "markdown",
      "source": [
        "##### Have you seen any improvement? Note down the improvement with updates Evaluation metric Score Chart."
      ],
      "metadata": {
        "id": "TfvqoZmBfxKf"
      }
    },
    {
      "cell_type": "markdown",
      "source": [
        "Answer Here."
      ],
      "metadata": {
        "id": "OaLui8CcfxKf"
      }
    },
    {
      "cell_type": "markdown",
      "source": [
        "### ML Model - 2"
      ],
      "metadata": {
        "id": "dJ2tPlVmpsJ0"
      }
    },
    {
      "cell_type": "markdown",
      "source": [
        "#### 1. Explain the ML Model used and it's performance using Evaluation metric Score Chart."
      ],
      "metadata": {
        "id": "JWYfwnehpsJ1"
      }
    },
    {
      "cell_type": "code",
      "source": [
        "# Visualizing evaluation Metric Score chart"
      ],
      "metadata": {
        "id": "yEl-hgQWpsJ1"
      },
      "execution_count": null,
      "outputs": []
    },
    {
      "cell_type": "markdown",
      "source": [
        "#### 2. Cross- Validation & Hyperparameter Tuning"
      ],
      "metadata": {
        "id": "-jK_YjpMpsJ2"
      }
    },
    {
      "cell_type": "code",
      "source": [
        "# ML Model - 1 Implementation with hyperparameter optimization techniques (i.e., GridSearch CV, RandomSearch CV, Bayesian Optimization etc.)\n",
        "\n",
        "# Fit the Algorithm\n",
        "\n",
        "# Predict on the model"
      ],
      "metadata": {
        "id": "Dn0EOfS6psJ2"
      },
      "execution_count": null,
      "outputs": []
    },
    {
      "cell_type": "markdown",
      "source": [
        "##### Which hyperparameter optimization technique have you used and why?"
      ],
      "metadata": {
        "id": "HAih1iBOpsJ2"
      }
    },
    {
      "cell_type": "markdown",
      "source": [
        "Answer Here."
      ],
      "metadata": {
        "id": "9kBgjYcdpsJ2"
      }
    },
    {
      "cell_type": "markdown",
      "source": [
        "##### Have you seen any improvement? Note down the improvement with updates Evaluation metric Score Chart."
      ],
      "metadata": {
        "id": "zVGeBEFhpsJ2"
      }
    },
    {
      "cell_type": "markdown",
      "source": [
        "Answer Here."
      ],
      "metadata": {
        "id": "74yRdG6UpsJ3"
      }
    },
    {
      "cell_type": "markdown",
      "source": [
        "#### 3. Explain each evaluation metric's indication towards business and the business impact pf the ML model used."
      ],
      "metadata": {
        "id": "bmKjuQ-FpsJ3"
      }
    },
    {
      "cell_type": "markdown",
      "source": [
        "Answer Here."
      ],
      "metadata": {
        "id": "BDKtOrBQpsJ3"
      }
    },
    {
      "cell_type": "markdown",
      "source": [
        "### ML Model - 3"
      ],
      "metadata": {
        "id": "Fze-IPXLpx6K"
      }
    },
    {
      "cell_type": "code",
      "source": [
        "# ML Model - 3 Implementation\n",
        "\n",
        "# Fit the Algorithm\n",
        "\n",
        "# Predict on the model"
      ],
      "metadata": {
        "id": "FFrSXAtrpx6M"
      },
      "execution_count": null,
      "outputs": []
    },
    {
      "cell_type": "markdown",
      "source": [
        "#### 1. Explain the ML Model used and it's performance using Evaluation metric Score Chart."
      ],
      "metadata": {
        "id": "7AN1z2sKpx6M"
      }
    },
    {
      "cell_type": "code",
      "source": [
        "# Visualizing evaluation Metric Score chart"
      ],
      "metadata": {
        "id": "xIY4lxxGpx6M"
      },
      "execution_count": null,
      "outputs": []
    },
    {
      "cell_type": "markdown",
      "source": [
        "#### 2. Cross- Validation & Hyperparameter Tuning"
      ],
      "metadata": {
        "id": "9PIHJqyupx6M"
      }
    },
    {
      "cell_type": "code",
      "source": [
        "# ML Model - 3 Implementation with hyperparameter optimization techniques (i.e., GridSearch CV, RandomSearch CV, Bayesian Optimization etc.)\n",
        "\n",
        "# Fit the Algorithm\n",
        "\n",
        "# Predict on the model"
      ],
      "metadata": {
        "id": "eSVXuaSKpx6M"
      },
      "execution_count": null,
      "outputs": []
    },
    {
      "cell_type": "markdown",
      "source": [
        "##### Which hyperparameter optimization technique have you used and why?"
      ],
      "metadata": {
        "id": "_-qAgymDpx6N"
      }
    },
    {
      "cell_type": "markdown",
      "source": [
        "Answer Here."
      ],
      "metadata": {
        "id": "lQMffxkwpx6N"
      }
    },
    {
      "cell_type": "markdown",
      "source": [
        "##### Have you seen any improvement? Note down the improvement with updates Evaluation metric Score Chart."
      ],
      "metadata": {
        "id": "Z-hykwinpx6N"
      }
    },
    {
      "cell_type": "markdown",
      "source": [
        "Answer Here."
      ],
      "metadata": {
        "id": "MzVzZC6opx6N"
      }
    },
    {
      "cell_type": "markdown",
      "source": [
        "### 1. Which Evaluation metrics did you consider for a positive business impact and why?"
      ],
      "metadata": {
        "id": "h_CCil-SKHpo"
      }
    },
    {
      "cell_type": "markdown",
      "source": [
        "Answer Here."
      ],
      "metadata": {
        "id": "jHVz9hHDKFms"
      }
    },
    {
      "cell_type": "markdown",
      "source": [
        "### 2. Which ML model did you choose from the above created models as your final prediction model and why?"
      ],
      "metadata": {
        "id": "cBFFvTBNJzUa"
      }
    },
    {
      "cell_type": "markdown",
      "source": [
        "Answer Here."
      ],
      "metadata": {
        "id": "6ksF5Q1LKTVm"
      }
    },
    {
      "cell_type": "markdown",
      "source": [
        "### 3. Explain the model which you have used and the feature importance using any model explainability tool?"
      ],
      "metadata": {
        "id": "HvGl1hHyA_VK"
      }
    },
    {
      "cell_type": "markdown",
      "source": [
        "Answer Here."
      ],
      "metadata": {
        "id": "YnvVTiIxBL-C"
      }
    },
    {
      "cell_type": "markdown",
      "source": [
        "## ***8.*** ***Future Work (Optional)***"
      ],
      "metadata": {
        "id": "EyNgTHvd2WFk"
      }
    },
    {
      "cell_type": "markdown",
      "source": [
        "### 1. Save the best performing ml model in a pickle file or joblib file format for deployment process.\n"
      ],
      "metadata": {
        "id": "KH5McJBi2d8v"
      }
    },
    {
      "cell_type": "code",
      "source": [
        "# Save the File"
      ],
      "metadata": {
        "id": "bQIANRl32f4J"
      },
      "execution_count": null,
      "outputs": []
    },
    {
      "cell_type": "markdown",
      "source": [
        "### 2. Again Load the saved model file and try to predict unseen data for a sanity check.\n"
      ],
      "metadata": {
        "id": "iW_Lq9qf2h6X"
      }
    },
    {
      "cell_type": "code",
      "source": [
        "# Load the File and predict unseen data."
      ],
      "metadata": {
        "id": "oEXk9ydD2nVC"
      },
      "execution_count": null,
      "outputs": []
    },
    {
      "cell_type": "markdown",
      "source": [
        "### ***Congrats! Your model is successfully created and ready for deployment on a live server for a real user interaction !!!***"
      ],
      "metadata": {
        "id": "-Kee-DAl2viO"
      }
    },
    {
      "cell_type": "markdown",
      "source": [
        "# **Conclusion**"
      ],
      "metadata": {
        "id": "gCX9965dhzqZ"
      }
    },
    {
      "cell_type": "markdown",
      "source": [
        "Write the conclusion here."
      ],
      "metadata": {
        "id": "Fjb1IsQkh3yE"
      }
    },
    {
      "cell_type": "markdown",
      "source": [
        "### ***Hurrah! You have successfully completed your Machine Learning Capstone Project !!!***"
      ],
      "metadata": {
        "id": "gIfDvo9L0UH2"
      }
    }
  ]
}